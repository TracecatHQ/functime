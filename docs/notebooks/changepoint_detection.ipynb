{
 "cells": [
  {
   "cell_type": "markdown",
   "id": "947edd9f-7ac1-456d-b5fb-7e3e0d2bb3da",
   "metadata": {},
   "source": [
    "# Changepoint Detection"
   ]
  },
  {
   "cell_type": "markdown",
   "id": "f25293a7-8482-4896-b12f-7db1c3c0100b",
   "metadata": {},
   "source": [
    "Changepoint detection is useful when you want to know when the underlying data generation process for a time series has changed. For example, if you were trying to trade the stock market, changepoint detection could be useful to tell you when there is a shift in market trends. In this tutorial, we will walk you through how to use some of the changepoint detection algorithms that are available in functime."
   ]
  },
  {
   "cell_type": "code",
   "execution_count": null,
   "id": "2503f78e-a5fe-4ed4-b78f-1f65f1701c69",
   "metadata": {},
   "outputs": [],
   "source": [
    "import numpy as np\n",
    "import plotly.express as px\n",
    "import polars as pl"
   ]
  },
  {
   "cell_type": "markdown",
   "id": "b82683d4-e75e-4779-b4bc-a404b04874c5",
   "metadata": {},
   "source": [
    "## CUSUM\n",
    "The CUSUM algorithm is one of the most straightforward changepoint detection algorithms available. It works to detect a shift in the mean of a time series. It does need to be tuned to ensure that the number of false positives and false negatives are controlled. The algorithm uses a warmup period to determine the initial mean and standard deviation of a data distribution. Once that warmup period is over, it calculate the cumulative sum of values away from the original mean value using standardized values. Once the cumulative sum of moves exceeds a mean, an event is logged and a new warmup period begins.\n",
    "\n",
    "The 3 parameters that are available for tuning are:\n",
    "- Threshold: How far the cumulative value must move from the original mean.\n",
    "- Warmup Period: How long to calculate the mean and standard deviation for.\n",
    "- Drift: A parameter that is subtracted from the normalized move on each iteration. This makes it so a lot of small moves will not trigger an event. The move must be large enough that it is bigger than our drift.\n",
    "\n",
    "Let's take a look below at how we can do this in functime. It is exposed through the plugin system through th `ts` namespace."
   ]
  },
  {
   "cell_type": "code",
   "execution_count": null,
   "id": "ee4a5417-e53b-4315-b76e-ac50798eb83b",
   "metadata": {},
   "outputs": [],
   "source": [
    "vals = list(np.random.default_rng(seed=0).normal(0.0, 0.1, 150))\n",
    "vals_2 = list(np.random.default_rng(seed=0).normal(0.2, 0.2, 50))\n",
    "\n",
    "df = pl.DataFrame({\"data\": vals + vals_2})\n",
    "\n",
    "df = df.with_columns(\n",
    "    pl.col(\"data\")\n",
    "    .ts.cusum(threshold=5.0, warmup_period=50, drift=1.0)\n",
    "    .alias(\"cusum_event\")\n",
    ")"
   ]
  },
  {
   "cell_type": "markdown",
   "id": "58b52ecd-e53c-4020-86fd-c1c3c504790c",
   "metadata": {},
   "source": [
    "You can see we have created a time series above that has a very clear changepoint at the 150th data point. Below we will graph the time series, the changepoint, and our algorithms detected changepoint."
   ]
  },
  {
   "cell_type": "code",
   "execution_count": null,
   "id": "c51ee12c-5882-4a98-a880-e4482f1886a5",
   "metadata": {},
   "outputs": [],
   "source": [
    "events = df.with_row_count().filter(pl.col(\"cusum_event\") == 1)[\"row_nr\"].to_list()\n",
    "fig = px.line(df, y=\"data\")\n",
    "fig.add_vline(150)\n",
    "for e in events:\n",
    "    fig.add_vline(e, line_dash=\"dash\", line_color=\"red\")\n",
    "fig.show()"
   ]
  },
  {
   "cell_type": "markdown",
   "id": "32603db0-e06e-4edf-925f-4f81256d6ef0",
   "metadata": {},
   "source": [
    "You can see that our simple algorithm does a fairly good job of caputring our changepoint (red dashed line) within just a few time periods of our actual changepoint (black solid line)."
   ]
  },
  {
   "cell_type": "code",
   "execution_count": null,
   "id": "c525e583-9365-4973-8437-267032cb2ec6",
   "metadata": {},
   "outputs": [],
   "source": []
  }
 ],
 "metadata": {
  "kernelspec": {
   "display_name": "Python 3 (ipykernel)",
   "language": "python",
   "name": "python3"
  },
  "language_info": {
   "codemirror_mode": {
    "name": "ipython",
    "version": 3
   },
   "file_extension": ".py",
   "mimetype": "text/x-python",
   "name": "python",
   "nbconvert_exporter": "python",
   "pygments_lexer": "ipython3",
   "version": "3.11.4"
  }
 },
 "nbformat": 4,
 "nbformat_minor": 5
}
