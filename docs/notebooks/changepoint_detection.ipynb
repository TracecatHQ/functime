{
 "cells": [
  {
   "cell_type": "code",
   "execution_count": 4,
   "id": "f3ad2d99-71f5-4527-9e91-09a023daff70",
   "metadata": {},
   "outputs": [
    {
     "name": "stderr",
     "output_type": "stream",
     "text": [
      "thread '<unnamed>' panicked at crates/polars-plan/src/dsl/function_expr/plugin.rs:29:18:\n",
      "called `Result::unwrap()` on an `Err` value: DlSym { desc: \"dlsym(0x81d9a3e0, _polars_plugin_get_version): symbol not found\" }\n"
     ]
    },
    {
     "ename": "PanicException",
     "evalue": "called `Result::unwrap()` on an `Err` value: DlSym { desc: \"dlsym(0x81d9a3e0, _polars_plugin_get_version): symbol not found\" }",
     "output_type": "error",
     "traceback": [
      "\u001b[0;31m---------------------------------------------------------------------------\u001b[0m",
      "\u001b[0;31mPanicException\u001b[0m                            Traceback (most recent call last)",
      "Cell \u001b[0;32mIn[4], line 11\u001b[0m\n\u001b[1;32m      7\u001b[0m vals_2 \u001b[38;5;241m=\u001b[39m \u001b[38;5;28mlist\u001b[39m(np\u001b[38;5;241m.\u001b[39mrandom\u001b[38;5;241m.\u001b[39mdefault_rng()\u001b[38;5;241m.\u001b[39mnormal(\u001b[38;5;241m0.2\u001b[39m, \u001b[38;5;241m0.2\u001b[39m, \u001b[38;5;241m50\u001b[39m))\n\u001b[1;32m      9\u001b[0m df \u001b[38;5;241m=\u001b[39m pl\u001b[38;5;241m.\u001b[39mDataFrame({\u001b[38;5;124m\"\u001b[39m\u001b[38;5;124mdata\u001b[39m\u001b[38;5;124m\"\u001b[39m: vals \u001b[38;5;241m+\u001b[39m vals_2})\n\u001b[0;32m---> 11\u001b[0m df \u001b[38;5;241m=\u001b[39m \u001b[43mdf\u001b[49m\u001b[38;5;241;43m.\u001b[39;49m\u001b[43mwith_columns\u001b[49m\u001b[43m(\u001b[49m\n\u001b[1;32m     12\u001b[0m \u001b[43m    \u001b[49m\u001b[43mpl\u001b[49m\u001b[38;5;241;43m.\u001b[39;49m\u001b[43mcol\u001b[49m\u001b[43m(\u001b[49m\u001b[38;5;124;43m\"\u001b[39;49m\u001b[38;5;124;43mdata\u001b[39;49m\u001b[38;5;124;43m\"\u001b[39;49m\u001b[43m)\u001b[49m\n\u001b[1;32m     13\u001b[0m \u001b[43m    \u001b[49m\u001b[38;5;241;43m.\u001b[39;49m\u001b[43mts\u001b[49m\u001b[38;5;241;43m.\u001b[39;49m\u001b[43mlempel_ziv_complexity\u001b[49m\u001b[43m(\u001b[49m\u001b[38;5;241;43m.5\u001b[39;49m\u001b[43m)\u001b[49m\n\u001b[1;32m     14\u001b[0m \u001b[43m    \u001b[49m\u001b[38;5;241;43m.\u001b[39;49m\u001b[43malias\u001b[49m\u001b[43m(\u001b[49m\u001b[38;5;124;43m\"\u001b[39;49m\u001b[38;5;124;43mcusum_event\u001b[39;49m\u001b[38;5;124;43m\"\u001b[39;49m\u001b[43m)\u001b[49m\n\u001b[1;32m     15\u001b[0m \u001b[43m)\u001b[49m\n",
      "File \u001b[0;32m~/projects/functime/.venv/lib/python3.11/site-packages/polars/dataframe/frame.py:7967\u001b[0m, in \u001b[0;36mDataFrame.with_columns\u001b[0;34m(self, *exprs, **named_exprs)\u001b[0m\n\u001b[1;32m   7819\u001b[0m \u001b[38;5;28;01mdef\u001b[39;00m \u001b[38;5;21mwith_columns\u001b[39m(\n\u001b[1;32m   7820\u001b[0m     \u001b[38;5;28mself\u001b[39m,\n\u001b[1;32m   7821\u001b[0m     \u001b[38;5;241m*\u001b[39mexprs: IntoExpr \u001b[38;5;241m|\u001b[39m Iterable[IntoExpr],\n\u001b[1;32m   7822\u001b[0m     \u001b[38;5;241m*\u001b[39m\u001b[38;5;241m*\u001b[39mnamed_exprs: IntoExpr,\n\u001b[1;32m   7823\u001b[0m ) \u001b[38;5;241m-\u001b[39m\u001b[38;5;241m>\u001b[39m DataFrame:\n\u001b[1;32m   7824\u001b[0m \u001b[38;5;250m    \u001b[39m\u001b[38;5;124;03m\"\"\"\u001b[39;00m\n\u001b[1;32m   7825\u001b[0m \u001b[38;5;124;03m    Add columns to this DataFrame.\u001b[39;00m\n\u001b[1;32m   7826\u001b[0m \n\u001b[0;32m   (...)\u001b[0m\n\u001b[1;32m   7965\u001b[0m \n\u001b[1;32m   7966\u001b[0m \u001b[38;5;124;03m    \"\"\"\u001b[39;00m\n\u001b[0;32m-> 7967\u001b[0m     \u001b[38;5;28;01mreturn\u001b[39;00m \u001b[38;5;28;43mself\u001b[39;49m\u001b[38;5;241;43m.\u001b[39;49m\u001b[43mlazy\u001b[49m\u001b[43m(\u001b[49m\u001b[43m)\u001b[49m\u001b[38;5;241;43m.\u001b[39;49m\u001b[43mwith_columns\u001b[49m\u001b[43m(\u001b[49m\u001b[38;5;241;43m*\u001b[39;49m\u001b[43mexprs\u001b[49m\u001b[43m,\u001b[49m\u001b[43m \u001b[49m\u001b[38;5;241;43m*\u001b[39;49m\u001b[38;5;241;43m*\u001b[39;49m\u001b[43mnamed_exprs\u001b[49m\u001b[43m)\u001b[49m\u001b[38;5;241m.\u001b[39mcollect(_eager\u001b[38;5;241m=\u001b[39m\u001b[38;5;28;01mTrue\u001b[39;00m)\n",
      "File \u001b[0;32m~/projects/functime/.venv/lib/python3.11/site-packages/polars/lazyframe/frame.py:4057\u001b[0m, in \u001b[0;36mLazyFrame.with_columns\u001b[0;34m(self, *exprs, **named_exprs)\u001b[0m\n\u001b[1;32m   4052\u001b[0m structify \u001b[38;5;241m=\u001b[39m \u001b[38;5;28mbool\u001b[39m(\u001b[38;5;28mint\u001b[39m(os\u001b[38;5;241m.\u001b[39menviron\u001b[38;5;241m.\u001b[39mget(\u001b[38;5;124m\"\u001b[39m\u001b[38;5;124mPOLARS_AUTO_STRUCTIFY\u001b[39m\u001b[38;5;124m\"\u001b[39m, \u001b[38;5;241m0\u001b[39m)))\n\u001b[1;32m   4054\u001b[0m pyexprs \u001b[38;5;241m=\u001b[39m parse_as_list_of_expressions(\n\u001b[1;32m   4055\u001b[0m     \u001b[38;5;241m*\u001b[39mexprs, \u001b[38;5;241m*\u001b[39m\u001b[38;5;241m*\u001b[39mnamed_exprs, __structify\u001b[38;5;241m=\u001b[39mstructify\n\u001b[1;32m   4056\u001b[0m )\n\u001b[0;32m-> 4057\u001b[0m \u001b[38;5;28;01mreturn\u001b[39;00m \u001b[38;5;28mself\u001b[39m\u001b[38;5;241m.\u001b[39m_from_pyldf(\u001b[38;5;28;43mself\u001b[39;49m\u001b[38;5;241;43m.\u001b[39;49m\u001b[43m_ldf\u001b[49m\u001b[38;5;241;43m.\u001b[39;49m\u001b[43mwith_columns\u001b[49m\u001b[43m(\u001b[49m\u001b[43mpyexprs\u001b[49m\u001b[43m)\u001b[49m)\n",
      "\u001b[0;31mPanicException\u001b[0m: called `Result::unwrap()` on an `Err` value: DlSym { desc: \"dlsym(0x81d9a3e0, _polars_plugin_get_version): symbol not found\" }"
     ]
    }
   ],
   "source": [
    "import numpy as np\n",
    "import polars as pl\n",
    "\n",
    "vals = list(np.random.default_rng().normal(0.0, 0.1, 150))\n",
    "vals_2 = list(np.random.default_rng().normal(0.2, 0.2, 50))\n",
    "\n",
    "df = pl.DataFrame({\"data\": vals + vals_2})\n",
    "\n",
    "df = df.with_columns(pl.col(\"data\").ts.lempel_ziv_complexity(0.5).alias(\"cusum_event\"))"
   ]
  },
  {
   "cell_type": "code",
   "execution_count": 3,
   "id": "c3cf0b1c-1d63-46e2-bf78-b03e51d210eb",
   "metadata": {},
   "outputs": [
    {
     "data": {
      "text/html": [
       "<div><style>\n",
       ".dataframe > thead > tr,\n",
       ".dataframe > tbody > tr {\n",
       "  text-align: right;\n",
       "  white-space: pre-wrap;\n",
       "}\n",
       "</style>\n",
       "<small>shape: (200, 2)</small><table border=\"1\" class=\"dataframe\"><thead><tr><th>data</th><th>cusum_event</th></tr><tr><td>f64</td><td>f64</td></tr></thead><tbody><tr><td>-0.160202</td><td>6.184637</td></tr><tr><td>0.014142</td><td>6.184637</td></tr><tr><td>0.012545</td><td>6.184637</td></tr><tr><td>0.009992</td><td>6.184637</td></tr><tr><td>-0.006778</td><td>6.184637</td></tr><tr><td>0.149944</td><td>6.184637</td></tr><tr><td>-0.011279</td><td>6.184637</td></tr><tr><td>-0.000829</td><td>6.184637</td></tr><tr><td>0.03625</td><td>6.184637</td></tr><tr><td>0.033089</td><td>6.184637</td></tr><tr><td>-0.031618</td><td>6.184637</td></tr><tr><td>-0.143839</td><td>6.184637</td></tr><tr><td>&hellip;</td><td>&hellip;</td></tr><tr><td>0.29243</td><td>6.184637</td></tr><tr><td>0.366343</td><td>6.184637</td></tr><tr><td>0.094052</td><td>6.184637</td></tr><tr><td>0.437296</td><td>6.184637</td></tr><tr><td>0.262137</td><td>6.184637</td></tr><tr><td>0.330017</td><td>6.184637</td></tr><tr><td>-0.191221</td><td>6.184637</td></tr><tr><td>0.361801</td><td>6.184637</td></tr><tr><td>0.384092</td><td>6.184637</td></tr><tr><td>0.101207</td><td>6.184637</td></tr><tr><td>0.387556</td><td>6.184637</td></tr><tr><td>0.493229</td><td>6.184637</td></tr></tbody></table></div>"
      ],
      "text/plain": [
       "shape: (200, 2)\n",
       "┌───────────┬─────────────┐\n",
       "│ data      ┆ cusum_event │\n",
       "│ ---       ┆ ---         │\n",
       "│ f64       ┆ f64         │\n",
       "╞═══════════╪═════════════╡\n",
       "│ -0.160202 ┆ 6.184637    │\n",
       "│ 0.014142  ┆ 6.184637    │\n",
       "│ 0.012545  ┆ 6.184637    │\n",
       "│ 0.009992  ┆ 6.184637    │\n",
       "│ …         ┆ …           │\n",
       "│ 0.384092  ┆ 6.184637    │\n",
       "│ 0.101207  ┆ 6.184637    │\n",
       "│ 0.387556  ┆ 6.184637    │\n",
       "│ 0.493229  ┆ 6.184637    │\n",
       "└───────────┴─────────────┘"
      ]
     },
     "execution_count": 3,
     "metadata": {},
     "output_type": "execute_result"
    }
   ],
   "source": [
    "df"
   ]
  }
 ],
 "metadata": {
  "kernelspec": {
   "display_name": "Python 3 (ipykernel)",
   "language": "python",
   "name": "python3"
  },
  "language_info": {
   "codemirror_mode": {
    "name": "ipython",
    "version": 3
   },
   "file_extension": ".py",
   "mimetype": "text/x-python",
   "name": "python",
   "nbconvert_exporter": "python",
   "pygments_lexer": "ipython3",
   "version": "3.11.4"
  }
 },
 "nbformat": 4,
 "nbformat_minor": 5
}
