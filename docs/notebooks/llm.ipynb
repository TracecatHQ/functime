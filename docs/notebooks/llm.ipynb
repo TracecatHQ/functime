{
 "cells": [
  {
   "cell_type": "markdown",
   "id": "4fa2ea52-993f-46d3-be32-c9d8ef9d7cca",
   "metadata": {},
   "source": [
    "# LLM Copilot\n",
    "This walkthrough covers the `functime.llm` module, which contains namespaced polars dataframe methods to interoperate Large Language Models (LLMs) with functime."
   ]
  },
  {
   "cell_type": "markdown",
   "id": "fb303fcc-f1b1-483f-9d75-d8f56e7ad34c",
   "metadata": {},
   "source": [
    "Let's use OpenAI's GPT models to analyze commodity price forecasts created by a functime forecaster. By default we use `gpt-3.5-turbo`."
   ]
  },
  {
   "cell_type": "markdown",
   "id": "592db0ea-1363-4696-94c1-25a5893db5a9",
   "metadata": {},
   "source": [
    "### Load data"
   ]
  },
  {
   "cell_type": "code",
   "execution_count": null,
   "id": "642d7472",
   "metadata": {},
   "outputs": [],
   "source": [
    "import os\n",
    "\n",
    "from IPython.display import Markdown, display\n",
    "\n",
    "os.environ[\"OPENAI_API_KEY\"] = \"...\"  # Your API key here"
   ]
  },
  {
   "cell_type": "code",
   "execution_count": null,
   "id": "0ebd0dbb-d9b5-4f26-8c65-fa79c1372694",
   "metadata": {},
   "outputs": [],
   "source": [
    "%%capture\n",
    "import polars as pl\n",
    "\n",
    "from functime.cross_validation import train_test_split\n",
    "from functime.forecasting import knn"
   ]
  },
  {
   "cell_type": "code",
   "execution_count": null,
   "id": "cfa368dd-cc6b-4596-ab2a-5643b925a685",
   "metadata": {},
   "outputs": [],
   "source": [
    "y = pl.read_parquet(\"../../data/commodities.parquet\")\n",
    "entity_col, time_col, target_col = y.columns\n",
    "test_size = 30\n",
    "freq = \"1mo\"\n",
    "y_train, y_test = train_test_split(test_size)(y)\n",
    "print(\"🎯 Target variable (y) -- train set:\")\n",
    "y_train.collect()"
   ]
  },
  {
   "cell_type": "markdown",
   "id": "0be0ed42-0637-4535-9e22-ac37e33a2ac1",
   "metadata": {},
   "source": [
    "We'll make a prediction using a knn forecaster."
   ]
  },
  {
   "cell_type": "code",
   "execution_count": null,
   "id": "bb31fb8f-03d5-4cce-a8e9-01ac2f4eabab",
   "metadata": {},
   "outputs": [],
   "source": [
    "# Univariate time-series fit with automated lags\n",
    "forecaster = knn(freq=\"1mo\", lags=24)\n",
    "forecaster.fit(y=y_train)\n",
    "y_pred = forecaster.predict(fh=test_size)\n",
    "y_pred.head()"
   ]
  },
  {
   "cell_type": "markdown",
   "id": "9eda8e8f",
   "metadata": {},
   "source": [
    "We'll also provide a short description of the dataset to aid the LLM in its analysis."
   ]
  },
  {
   "cell_type": "code",
   "execution_count": null,
   "id": "65beed75",
   "metadata": {},
   "outputs": [],
   "source": [
    "dataset_context = (\n",
    "    \"This dataset comprises of forecasted commodity prices between 2020 to 2023.\"\n",
    ")"
   ]
  },
  {
   "cell_type": "markdown",
   "id": "a2d50852-aaa5-40e6-8edc-3088131c8aff",
   "metadata": {},
   "source": [
    "### Analyze Forecasts"
   ]
  },
  {
   "cell_type": "markdown",
   "id": "72489485",
   "metadata": {},
   "source": [
    "Let's take a look at aluminum and European banana prices. You can select multiple (or just one) entity / time-series to analyze through the `basket` variable."
   ]
  },
  {
   "cell_type": "code",
   "execution_count": null,
   "id": "d643ede9",
   "metadata": {},
   "outputs": [],
   "source": [
    "analysis = y_pred.llm.analyze(\n",
    "    context=\"This dataset comprises of forecasted commodity prices between 2020 to 2023.\",\n",
    "    basket=[\"Aluminum\", \"Banana, Europe\"],\n",
    ")\n",
    "display(Markdown(analysis))"
   ]
  },
  {
   "cell_type": "markdown",
   "id": "615c857b-f8e8-4fea-9175-568076821a90",
   "metadata": {},
   "source": [
    "### Compare Forecasts"
   ]
  },
  {
   "cell_type": "markdown",
   "id": "404c44fc",
   "metadata": {},
   "source": [
    "Let's now compare the previous selection with a new one. We'll refer to these as baskets A and B."
   ]
  },
  {
   "cell_type": "code",
   "execution_count": null,
   "id": "acbb24b9-57cb-47f7-aa19-b58e49f32419",
   "metadata": {},
   "outputs": [],
   "source": [
    "basket_a = [\"Aluminum\", \"Banana, Europe\"]\n",
    "basket_b = [\"Chicken\", \"Cocoa\"]"
   ]
  },
  {
   "cell_type": "markdown",
   "id": "b4df6c36-4ac7-4a43-b047-ccd77a92ea25",
   "metadata": {},
   "source": [
    "Now compare!"
   ]
  },
  {
   "cell_type": "code",
   "execution_count": null,
   "id": "a752bb3b-605f-4581-837c-cb52ef17f198",
   "metadata": {},
   "outputs": [],
   "source": [
    "comparison = y_pred.llm.compare(basket=basket_a, other_basket=basket_b)\n",
    "display(Markdown(comparison))"
   ]
  }
 ],
 "metadata": {
  "kernelspec": {
   "display_name": "Python 3 (ipykernel)",
   "language": "python",
   "name": "python3"
  },
  "language_info": {
   "codemirror_mode": {
    "name": "ipython",
    "version": 3
   },
   "file_extension": ".py",
   "mimetype": "text/x-python",
   "name": "python",
   "nbconvert_exporter": "python",
   "pygments_lexer": "ipython3",
   "version": "3.8.17"
  }
 },
 "nbformat": 4,
 "nbformat_minor": 5
}
