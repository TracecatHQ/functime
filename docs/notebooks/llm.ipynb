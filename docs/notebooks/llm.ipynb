{
 "cells": [
  {
   "cell_type": "markdown",
   "id": "4fa2ea52-993f-46d3-be32-c9d8ef9d7cca",
   "metadata": {},
   "source": [
    "# LLM Co-pilot\n",
    "This walkthrough covers the `functime.llm` module, which contains namespaced polars dataframe methods to interoperate Large Language Models (LLMs) with functime."
   ]
  },
  {
   "cell_type": "markdown",
   "id": "fb303fcc-f1b1-483f-9d75-d8f56e7ad34c",
   "metadata": {},
   "source": [
    "Let's use OpenAI's GPT models to analyze commodity price forecasts created by a functime forecaster. By default we use `gpt-3.5-turbo`."
   ]
  },
  {
   "cell_type": "markdown",
   "id": "592db0ea-1363-4696-94c1-25a5893db5a9",
   "metadata": {},
   "source": [
    "### Load data"
   ]
  },
  {
   "cell_type": "code",
   "execution_count": 9,
   "id": "642d7472",
   "metadata": {},
   "outputs": [],
   "source": [
    "import os\n",
    "os.environ[\"OPENAI_API_KEY\"] = \"...\"  # Your API key here"
   ]
  },
  {
   "cell_type": "code",
   "execution_count": 2,
   "id": "0ebd0dbb-d9b5-4f26-8c65-fa79c1372694",
   "metadata": {},
   "outputs": [],
   "source": [
    "%%capture\n",
    "import polars as pl\n",
    "\n",
    "from functime.cross_validation import train_test_split\n",
    "from functime.forecasting import knn\n",
    "import functime.llm     # We must import this to override the `llm` namespace for pl.DataFrame"
   ]
  },
  {
   "cell_type": "code",
   "execution_count": 3,
   "id": "cfa368dd-cc6b-4596-ab2a-5643b925a685",
   "metadata": {},
   "outputs": [
    {
     "name": "stdout",
     "output_type": "stream",
     "text": [
      "🎯 Target variable (y) -- train set:\n"
     ]
    },
    {
     "data": {
      "text/html": [
       "<div><style>\n",
       ".dataframe > thead > tr > th,\n",
       ".dataframe > tbody > tr > td {\n",
       "  text-align: right;\n",
       "}\n",
       "</style>\n",
       "<small>shape: (45_453, 3)</small><table border=\"1\" class=\"dataframe\"><thead><tr><th>commodity_type</th><th>time</th><th>price</th></tr><tr><td>str</td><td>datetime[ns]</td><td>f64</td></tr></thead><tbody><tr><td>&quot;Palm kernel oi…</td><td>1996-01-01 00:00:00</td><td>686.0</td></tr><tr><td>&quot;Palm kernel oi…</td><td>1996-02-01 00:00:00</td><td>716.0</td></tr><tr><td>&quot;Palm kernel oi…</td><td>1996-03-01 00:00:00</td><td>715.0</td></tr><tr><td>&quot;Palm kernel oi…</td><td>1996-04-01 00:00:00</td><td>755.0</td></tr><tr><td>&quot;Palm kernel oi…</td><td>1996-05-01 00:00:00</td><td>775.0</td></tr><tr><td>&quot;Palm kernel oi…</td><td>1996-06-01 00:00:00</td><td>762.0</td></tr><tr><td>&quot;Palm kernel oi…</td><td>1996-07-01 00:00:00</td><td>734.0</td></tr><tr><td>&quot;Palm kernel oi…</td><td>1996-08-01 00:00:00</td><td>725.0</td></tr><tr><td>&quot;Palm kernel oi…</td><td>1996-09-01 00:00:00</td><td>707.0</td></tr><tr><td>&quot;Palm kernel oi…</td><td>1996-10-01 00:00:00</td><td>693.0</td></tr><tr><td>&quot;Palm kernel oi…</td><td>1996-11-01 00:00:00</td><td>721.0</td></tr><tr><td>&quot;Palm kernel oi…</td><td>1996-12-01 00:00:00</td><td>747.0</td></tr><tr><td>&hellip;</td><td>&hellip;</td><td>&hellip;</td></tr><tr><td>&quot;Crude oil, WTI…</td><td>2019-10-01 00:00:00</td><td>53.98</td></tr><tr><td>&quot;Crude oil, WTI…</td><td>2019-11-01 00:00:00</td><td>57.06</td></tr><tr><td>&quot;Crude oil, WTI…</td><td>2019-12-01 00:00:00</td><td>59.8</td></tr><tr><td>&quot;Crude oil, WTI…</td><td>2020-01-01 00:00:00</td><td>57.52</td></tr><tr><td>&quot;Crude oil, WTI…</td><td>2020-02-01 00:00:00</td><td>50.53</td></tr><tr><td>&quot;Crude oil, WTI…</td><td>2020-03-01 00:00:00</td><td>29.88</td></tr><tr><td>&quot;Crude oil, WTI…</td><td>2020-04-01 00:00:00</td><td>16.52</td></tr><tr><td>&quot;Crude oil, WTI…</td><td>2020-05-01 00:00:00</td><td>28.56</td></tr><tr><td>&quot;Crude oil, WTI…</td><td>2020-06-01 00:00:00</td><td>38.3</td></tr><tr><td>&quot;Crude oil, WTI…</td><td>2020-07-01 00:00:00</td><td>40.75</td></tr><tr><td>&quot;Crude oil, WTI…</td><td>2020-08-01 00:00:00</td><td>42.36</td></tr><tr><td>&quot;Crude oil, WTI…</td><td>2020-09-01 00:00:00</td><td>39.6</td></tr></tbody></table></div>"
      ],
      "text/plain": [
       "shape: (45_453, 3)\n",
       "┌─────────────────┬─────────────────────┬───────┐\n",
       "│ commodity_type  ┆ time                ┆ price │\n",
       "│ ---             ┆ ---                 ┆ ---   │\n",
       "│ str             ┆ datetime[ns]        ┆ f64   │\n",
       "╞═════════════════╪═════════════════════╪═══════╡\n",
       "│ Palm kernel oil ┆ 1996-01-01 00:00:00 ┆ 686.0 │\n",
       "│ Palm kernel oil ┆ 1996-02-01 00:00:00 ┆ 716.0 │\n",
       "│ Palm kernel oil ┆ 1996-03-01 00:00:00 ┆ 715.0 │\n",
       "│ Palm kernel oil ┆ 1996-04-01 00:00:00 ┆ 755.0 │\n",
       "│ …               ┆ …                   ┆ …     │\n",
       "│ Crude oil, WTI  ┆ 2020-06-01 00:00:00 ┆ 38.3  │\n",
       "│ Crude oil, WTI  ┆ 2020-07-01 00:00:00 ┆ 40.75 │\n",
       "│ Crude oil, WTI  ┆ 2020-08-01 00:00:00 ┆ 42.36 │\n",
       "│ Crude oil, WTI  ┆ 2020-09-01 00:00:00 ┆ 39.6  │\n",
       "└─────────────────┴─────────────────────┴───────┘"
      ]
     },
     "execution_count": 3,
     "metadata": {},
     "output_type": "execute_result"
    }
   ],
   "source": [
    "y = pl.read_parquet(\"../../data/commodities.parquet\")\n",
    "entity_col, time_col, target_col = y.columns\n",
    "test_size = 30\n",
    "freq = \"1mo\"\n",
    "y_train, y_test = train_test_split(test_size)(y)\n",
    "print(\"🎯 Target variable (y) -- train set:\")\n",
    "y_train.collect()"
   ]
  },
  {
   "cell_type": "markdown",
   "id": "0be0ed42-0637-4535-9e22-ac37e33a2ac1",
   "metadata": {},
   "source": [
    "We'll make a prediction using a knn forecaster."
   ]
  },
  {
   "cell_type": "code",
   "execution_count": 4,
   "id": "bb31fb8f-03d5-4cce-a8e9-01ac2f4eabab",
   "metadata": {},
   "outputs": [
    {
     "data": {
      "text/html": [
       "<div><style>\n",
       ".dataframe > thead > tr > th,\n",
       ".dataframe > tbody > tr > td {\n",
       "  text-align: right;\n",
       "}\n",
       "</style>\n",
       "<small>shape: (5, 3)</small><table border=\"1\" class=\"dataframe\"><thead><tr><th>commodity_type</th><th>time</th><th>price</th></tr><tr><td>str</td><td>datetime[μs]</td><td>f64</td></tr></thead><tbody><tr><td>&quot;Cocoa&quot;</td><td>2020-10-01 00:00:00</td><td>2.41</td></tr><tr><td>&quot;Cocoa&quot;</td><td>2020-11-01 00:00:00</td><td>2.42</td></tr><tr><td>&quot;Cocoa&quot;</td><td>2020-12-01 00:00:00</td><td>2.408</td></tr><tr><td>&quot;Cocoa&quot;</td><td>2021-01-01 00:00:00</td><td>2.372</td></tr><tr><td>&quot;Cocoa&quot;</td><td>2021-02-01 00:00:00</td><td>2.322</td></tr></tbody></table></div>"
      ],
      "text/plain": [
       "shape: (5, 3)\n",
       "┌────────────────┬─────────────────────┬───────┐\n",
       "│ commodity_type ┆ time                ┆ price │\n",
       "│ ---            ┆ ---                 ┆ ---   │\n",
       "│ str            ┆ datetime[μs]        ┆ f64   │\n",
       "╞════════════════╪═════════════════════╪═══════╡\n",
       "│ Cocoa          ┆ 2020-10-01 00:00:00 ┆ 2.41  │\n",
       "│ Cocoa          ┆ 2020-11-01 00:00:00 ┆ 2.42  │\n",
       "│ Cocoa          ┆ 2020-12-01 00:00:00 ┆ 2.408 │\n",
       "│ Cocoa          ┆ 2021-01-01 00:00:00 ┆ 2.372 │\n",
       "│ Cocoa          ┆ 2021-02-01 00:00:00 ┆ 2.322 │\n",
       "└────────────────┴─────────────────────┴───────┘"
      ]
     },
     "execution_count": 4,
     "metadata": {},
     "output_type": "execute_result"
    }
   ],
   "source": [
    "# Univariate time-series fit with automated lags\n",
    "forecaster = knn(freq=\"1mo\", lags=24)\n",
    "forecaster.fit(y=y_train)\n",
    "y_pred = forecaster.predict(fh=test_size)\n",
    "y_pred.head()"
   ]
  },
  {
   "cell_type": "markdown",
   "id": "9eda8e8f",
   "metadata": {},
   "source": [
    "We'll also provide a short description of the dataset to aid the LLM in its analysis."
   ]
  },
  {
   "cell_type": "code",
   "execution_count": 5,
   "id": "65beed75",
   "metadata": {},
   "outputs": [],
   "source": [
    "dataset_context = \"This dataset comprises of forecasted commodity prices between 2020 to 2023.\""
   ]
  },
  {
   "cell_type": "markdown",
   "id": "a2d50852-aaa5-40e6-8edc-3088131c8aff",
   "metadata": {},
   "source": [
    "### Analyze Forecasts"
   ]
  },
  {
   "cell_type": "markdown",
   "id": "72489485",
   "metadata": {},
   "source": [
    "Let's take a look at aluminum and European banana prices. You can select multiple (or just one) entity / time-series to analyze through the `basket` variable."
   ]
  },
  {
   "cell_type": "code",
   "execution_count": 6,
   "id": "d643ede9",
   "metadata": {},
   "outputs": [
    {
     "name": "stdout",
     "output_type": "stream",
     "text": [
      "📊 Analysis:\n",
      " - The Aluminum price shows a slight decreasing trend from October 2020 to February 2021, with a decrease of 6.3%. However, from February 2021 to March 2021, there is a sudden increase of 1.2%. Overall, the Aluminum price remains relatively stable with small fluctuations throughout the period.\n",
      "- The Banana price in Europe exhibits a decreasing trend from October 2020 to August 2021, with a decrease of 7.7%. From August 2021 to October 2021, there is a slight increase of 2.2%. From October 2021 to November 2021, there is a significant increase of 5.9%, followed by a steady increase until March 2023. The Banana price shows a strong upward trend, with an overall increase of 31.6%.\n",
      "- Both Aluminum and Banana prices show seasonality, with similar patterns repeating each year. The lowest Aluminum prices occur in February, while the highest prices occur in December. For Banana prices, the lowest prices occur in July, and the highest prices occur in March.\n",
      "- An anomaly can be observed in the Aluminum price between February 2021 and March 2021, where there is a sudden increase of 1.2% after a period of decreasing prices. This anomaly could be due to external factors such as changes in supply and demand or market dynamics.\n",
      "- Another anomaly can be observed in the Banana price between October 2021 and November 2021, where there is a significant increase of 5.9% within a month. This anomaly could be attributed to factors such as changes in import/export regulations, weather conditions affecting production, or shifts in consumer demand.\n",
      "- The difference between the highest and lowest Aluminum prices within the given time period is 12.2%, indicating relatively low volatility in the Aluminum market.\n",
      "- In contrast, the difference between the highest and lowest Banana prices is 39.4%, suggesting higher volatility in the Banana market.\n",
      "- The average monthly change in Aluminum prices is -0.4%, indicating a slight downward trend over the analyzed period.\n",
      "- On the other hand, the average monthly change in Banana prices is 1.3%, demonstrating a strong upward trend.\n",
      "- The overall trend suggests that the Banana market is experiencing growth and demand, while the Aluminum market remains relatively stable but with slight downward pressure.\n"
     ]
    }
   ],
   "source": [
    "analysis = y_pred.llm.analyze(\n",
    "    context=dataset_context,\n",
    "    basket=[\"Aluminum\", \"Banana, Europe\"]\n",
    ")\n",
    "print(\"📊 Analysis:\\n\", analysis)"
   ]
  },
  {
   "cell_type": "markdown",
   "id": "615c857b-f8e8-4fea-9175-568076821a90",
   "metadata": {},
   "source": [
    "### Compare Forecasts"
   ]
  },
  {
   "cell_type": "markdown",
   "id": "404c44fc",
   "metadata": {},
   "source": [
    "Let's now compare the previous selection with a new one. We'll refer to these as baskets A and B."
   ]
  },
  {
   "cell_type": "code",
   "execution_count": 7,
   "id": "acbb24b9-57cb-47f7-aa19-b58e49f32419",
   "metadata": {},
   "outputs": [],
   "source": [
    "basket_a = [\"Aluminum\", \"Banana, Europe\"]\n",
    "basket_b = [\"Chicken\", \"Cocoa\"]"
   ]
  },
  {
   "cell_type": "markdown",
   "id": "b4df6c36-4ac7-4a43-b047-ccd77a92ea25",
   "metadata": {},
   "source": [
    "Now compare!"
   ]
  },
  {
   "cell_type": "code",
   "execution_count": 8,
   "id": "a752bb3b-605f-4581-837c-cb52ef17f198",
   "metadata": {},
   "outputs": [
    {
     "name": "stdout",
     "output_type": "stream",
     "text": [
      "📊 Comparison:\n",
      " The provided time series data consists of two dataframes: \"This\" and \"Other\". Let's compare and contrast these dataframes in terms of trend, seasonality, and anomalies.\n",
      "\n",
      "**Trend:**\n",
      "- Aluminum in the \"This\" dataframe shows a decreasing trend over time, with a decrease of 12.01% from October 2020 to March 2023.\n",
      "- Chicken in the \"Other\" dataframe does not show a clear trend, fluctuating within a narrow range over the given time period.\n",
      "\n",
      "**Seasonality:**\n",
      "- The \"This\" dataframe does not exhibit any apparent seasonality in either Aluminum or Banana, Europe.\n",
      "- The \"Other\" dataframe also does not show any significant seasonality in Chicken or Cocoa.\n",
      "\n",
      "**Anomalies:**\n",
      "- In the \"This\" dataframe, there are no clear anomalies in the Aluminum or Banana, Europe data.\n",
      "- Similarly, in the \"Other\" dataframe, there are no notable anomalies in the Chicken or Cocoa data.\n",
      "\n",
      "In summary, the Aluminum prices in the \"This\" dataframe exhibit a decreasing trend over time, while the Chicken prices in the \"Other\" dataframe remain relatively stable. Neither dataframe shows significant seasonality or anomalies.\n"
     ]
    }
   ],
   "source": [
    "comparison = y_pred.llm.compare(\n",
    "    basket=basket_a,\n",
    "    other_basket=basket_b\n",
    ")\n",
    "print(\"📊 Comparison:\\n\", comparison)"
   ]
  }
 ],
 "metadata": {
  "kernelspec": {
   "display_name": "Python 3 (ipykernel)",
   "language": "python",
   "name": "python3"
  },
  "language_info": {
   "codemirror_mode": {
    "name": "ipython",
    "version": 3
   },
   "file_extension": ".py",
   "mimetype": "text/x-python",
   "name": "python",
   "nbconvert_exporter": "python",
   "pygments_lexer": "ipython3",
   "version": "3.8.17"
  }
 },
 "nbformat": 4,
 "nbformat_minor": 5
}
