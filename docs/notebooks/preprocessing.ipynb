{
 "cells": [
  {
   "cell_type": "markdown",
   "metadata": {},
   "source": [
    "# Preprocessing Examples\n",
    "This walkthrough covers selected functions from `functime.preprocessing`. We visualize common time-series preprocessing techniques before and after the time-series transformation. These transformations make the time-series look more \"well-behaved\", which generally makes the time-series easier to forecast. This chapter https://otexts.com/fpp3/stationarity.html from the Forecasting: Principles and Practice textbook provides an excellent primer on this topic."
   ]
  },
  {
   "cell_type": "code",
   "execution_count": null,
   "metadata": {},
   "outputs": [],
   "source": [
    "import polars as pl\n",
    "\n",
    "from functime.plotting import plot_forecasts, plot_panel\n",
    "from functime.preprocessing import (\n",
    "    boxcox,\n",
    "    deseasonalize_fourier,\n",
    "    detrend,\n",
    "    diff,\n",
    "    fractional_diff,\n",
    "    scale,\n",
    "    yeojohnson,\n",
    ")"
   ]
  },
  {
   "cell_type": "markdown",
   "metadata": {},
   "source": [
    "Let's first load the commodity prices dataset."
   ]
  },
  {
   "cell_type": "code",
   "execution_count": null,
   "metadata": {},
   "outputs": [],
   "source": [
    "data = pl.read_parquet(\"../../data/commodities.parquet\")\n",
    "entity_col, time_col, target_col = data.columns\n",
    "data.head(1)"
   ]
  },
  {
   "cell_type": "markdown",
   "metadata": {},
   "source": [
    "There are 71 commodities in total."
   ]
  },
  {
   "cell_type": "code",
   "execution_count": null,
   "metadata": {},
   "outputs": [],
   "source": [
    "data.get_column(\"commodity_type\").n_unique()"
   ]
  },
  {
   "cell_type": "markdown",
   "metadata": {},
   "source": [
    "Let's now visualize the top 4 most volatile time-series by coefficient of variation."
   ]
  },
  {
   "cell_type": "code",
   "execution_count": null,
   "metadata": {},
   "outputs": [],
   "source": [
    "most_volatile_commodities = (\n",
    "    data.group_by(entity_col)\n",
    "    .agg((pl.col(target_col).std() / pl.col(target_col).mean()).alias(\"cv\"))\n",
    "    .top_k(k=4, by=\"cv\")\n",
    ")\n",
    "most_volatile_commodities"
   ]
  },
  {
   "cell_type": "code",
   "execution_count": null,
   "metadata": {},
   "outputs": [],
   "source": [
    "selected = most_volatile_commodities.get_column(entity_col)\n",
    "y = data.filter(pl.col(entity_col).is_in(selected))\n",
    "figure = plot_panel(y=y, height=800, width=1000)\n",
    "figure.show(renderer=\"svg\")"
   ]
  },
  {
   "cell_type": "markdown",
   "metadata": {},
   "source": [
    "These time-series looks quite complex: trending behavior, seasonality effects, changing volatility over time, etc. Let's see if we can preprocess these time-series to make them easier to forecast!"
   ]
  },
  {
   "cell_type": "markdown",
   "metadata": {},
   "source": [
    "## Detrending"
   ]
  },
  {
   "cell_type": "markdown",
   "metadata": {},
   "source": [
    "We can use the `plot_forecasts` function to compare the time-series before and after the transformation."
   ]
  },
  {
   "cell_type": "code",
   "execution_count": null,
   "metadata": {},
   "outputs": [],
   "source": [
    "transformer = detrend(freq=\"1mo\", method=\"linear\")\n",
    "y_detrended = y.pipe(transformer).collect()\n",
    "figure = plot_forecasts(\n",
    "    y_true=y, y_pred=y_detrended.group_by(entity_col).tail(64), height=800, width=1000\n",
    ")\n",
    "figure.show(renderer=\"svg\")"
   ]
  },
  {
   "cell_type": "markdown",
   "metadata": {},
   "source": [
    "It's super easy to invert the transformation!"
   ]
  },
  {
   "cell_type": "code",
   "execution_count": null,
   "metadata": {},
   "outputs": [],
   "source": [
    "y_original = transformer.invert(y_detrended).group_by(entity_col).tail(64).collect()\n",
    "subset = [\"Natural gas, Europe\", \"Crude oil, Dubai\"]\n",
    "figure = plot_forecasts(\n",
    "    y_true=y.filter(pl.col(entity_col).is_in(subset)),\n",
    "    y_pred=y_original,\n",
    "    height=400,\n",
    "    width=1000,\n",
    ")\n",
    "figure.show(renderer=\"svg\")"
   ]
  },
  {
   "cell_type": "markdown",
   "metadata": {},
   "source": [
    "## Deseasonalize\n",
    "We support deseasonalization via residualized regression on Fourier terms to model seasonality. For this example, let's use the M4 hourly dataset, which has clear seasonal patterns."
   ]
  },
  {
   "cell_type": "code",
   "execution_count": null,
   "metadata": {},
   "outputs": [],
   "source": [
    "m4_data = pl.read_parquet(\"../../data/m4_1w_train.parquet\")\n",
    "m4_entity_col, m4_time_col, m4_target_col = m4_data.columns\n",
    "y_m4 = m4_data.filter(pl.col(m4_entity_col).is_in([\"W174\", \"W175\", \"W176\", \"W178\"]))\n",
    "figure = plot_panel(y=y_m4, height=800, width=1000)\n",
    "figure.show(renderer=\"svg\")"
   ]
  },
  {
   "cell_type": "markdown",
   "metadata": {},
   "source": [
    "Let's plot the seasonal component of the series!"
   ]
  },
  {
   "cell_type": "code",
   "execution_count": null,
   "metadata": {},
   "outputs": [],
   "source": [
    "# Fourier Terms\n",
    "transformer = deseasonalize_fourier(sp=12, K=3)\n",
    "y_deseasonalized = y_m4.pipe(transformer).collect()\n",
    "y_seasonal = transformer.state.artifacts[\"X_seasonal\"].collect()\n",
    "figure = plot_panel(\n",
    "    y=y_seasonal.group_by(m4_entity_col).tail(64), height=800, width=1000\n",
    ")\n",
    "figure.show(renderer=\"svg\")"
   ]
  },
  {
   "cell_type": "code",
   "execution_count": null,
   "metadata": {},
   "outputs": [],
   "source": [
    "y_deseasonalized = y_m4.pipe(transformer).collect()\n",
    "y_original = transformer.invert(y_deseasonalized).collect()\n",
    "figure = plot_panel(\n",
    "    y=y_original.group_by(m4_entity_col).tail(64), height=800, width=1000\n",
    ")\n",
    "figure.show(renderer=\"svg\")"
   ]
  },
  {
   "cell_type": "markdown",
   "metadata": {},
   "source": [
    "## Differencing\n",
    "First differences is a technique used in time-series analysis to transform a non-stationary time-series into a stationary one by taking the difference between consecutive observations. Assumes the time-series is integrated with unit root 1.\n"
   ]
  },
  {
   "cell_type": "code",
   "execution_count": null,
   "metadata": {},
   "outputs": [],
   "source": [
    "transformer = diff(order=1)\n",
    "y_diff = y.pipe(transformer).collect()\n",
    "figure = plot_forecasts(\n",
    "    y_true=y, y_pred=y_diff.group_by(entity_col).tail(64), height=800, width=1000\n",
    ")\n",
    "figure.show(renderer=\"svg\")"
   ]
  },
  {
   "cell_type": "markdown",
   "metadata": {},
   "source": [
    "## Fractional Differencing\n",
    "\n",
    "Sometimes you may want to make a time series stationary without removing all of the memory from a time series. This can especially be useful in specific forecasting tasks where the next value is dependent on a long history of past values (think forecasting the price of a stock). In this case, we can use fractional differencing. Notice the difference between these plots and the previous plots. It is worthwhile to run multiple tests using a scoring function such as the augmented dickey-fuller test to determine the minimum value of d that makes a time series stationary."
   ]
  },
  {
   "cell_type": "code",
   "execution_count": null,
   "metadata": {},
   "outputs": [],
   "source": [
    "transformer = fractional_diff(d=0.3, min_weight=1e-3)\n",
    "y_diff = y.pipe(transformer).collect()\n",
    "figure = plot_forecasts(\n",
    "    y_true=y, y_pred=y_diff.group_by(entity_col).tail(64), height=800, width=1000\n",
    ")\n",
    "figure.show(renderer=\"svg\")"
   ]
  },
  {
   "cell_type": "markdown",
   "metadata": {},
   "source": [
    "## Seasonal Differencing"
   ]
  },
  {
   "cell_type": "code",
   "execution_count": null,
   "metadata": {},
   "outputs": [],
   "source": [
    "transformer = diff(order=1, sp=12)\n",
    "y_seas_diff = y.pipe(transformer).collect()\n",
    "figure = plot_forecasts(\n",
    "    y_true=y, y_pred=y_seas_diff.group_by(entity_col).tail(64), height=800, width=1000\n",
    ")\n",
    "figure.show(renderer=\"svg\")"
   ]
  },
  {
   "cell_type": "markdown",
   "metadata": {},
   "source": [
    "## Local Scaling\n",
    "Parallelized version of the scaling transformation (less mean, divide standard deviation) across many time-series."
   ]
  },
  {
   "cell_type": "code",
   "execution_count": null,
   "metadata": {},
   "outputs": [],
   "source": [
    "transformer = scale(use_mean=True, use_std=True)\n",
    "y_scaled = y_m4.pipe(transformer).collect()\n",
    "figure = plot_panel(y=y_scaled.group_by(m4_entity_col).tail(64), height=800, width=1000)\n",
    "figure.show(renderer=\"svg\")"
   ]
  },
  {
   "cell_type": "markdown",
   "metadata": {},
   "source": [
    "## Box-Cox\n",
    "This transformation is used to stabilize the variance of the time-series. Requires all values to be positive."
   ]
  },
  {
   "cell_type": "code",
   "execution_count": null,
   "metadata": {},
   "outputs": [],
   "source": [
    "transformer = boxcox(method=\"mle\")\n",
    "y_boxcox = y.pipe(transformer).collect()\n",
    "figure = plot_panel(y=y_boxcox.group_by(entity_col).tail(64), height=800, width=1000)\n",
    "figure.show(renderer=\"svg\")"
   ]
  },
  {
   "cell_type": "markdown",
   "metadata": {},
   "source": [
    "## Yeo-Johnson\n",
    "This transformation is similar to Box-Cox, but without the strictly positive requirement."
   ]
  },
  {
   "cell_type": "code",
   "execution_count": null,
   "metadata": {},
   "outputs": [],
   "source": [
    "transformer = yeojohnson()\n",
    "y_yeojohnson = y.pipe(transformer).collect()\n",
    "figure = plot_panel(\n",
    "    y=y_yeojohnson.group_by(entity_col).tail(64), height=800, width=1000\n",
    ")\n",
    "figure.show(renderer=\"svg\")"
   ]
  },
  {
   "cell_type": "markdown",
   "metadata": {},
   "source": [
    "## Let's put it all together!\n",
    "- Box-Cox to stabilize the variance\n",
    "- Deseasonalize to remove seasonality\n",
    "- First differences to stabilize the mean\n",
    "\n",
    "The goal is to make the time-series \"look\" more stationary, which is an important assumption for many time-series forecasting models. Here's an excellent primer on the topic: https://otexts.com/fpp3/stationarity.html"
   ]
  },
  {
   "cell_type": "code",
   "execution_count": null,
   "metadata": {},
   "outputs": [],
   "source": [
    "y_new = (\n",
    "    y.pipe(boxcox())\n",
    "    .pipe(deseasonalize_fourier(sp=12, K=3))\n",
    "    .pipe(diff(order=1))\n",
    "    .collect()\n",
    ")\n",
    "figure = plot_panel(y=y_new.group_by(entity_col).tail(64), height=800, width=1000)\n",
    "figure.show(renderer=\"svg\")"
   ]
  }
 ],
 "metadata": {
  "kernelspec": {
   "display_name": "Python 3 (ipykernel)",
   "language": "python",
   "name": "python3"
  },
  "language_info": {
   "codemirror_mode": {
    "name": "ipython",
    "version": 3
   },
   "file_extension": ".py",
   "mimetype": "text/x-python",
   "name": "python",
   "nbconvert_exporter": "python",
   "pygments_lexer": "ipython3",
   "version": "3.11.4"
  }
 },
 "nbformat": 4,
 "nbformat_minor": 4
}
