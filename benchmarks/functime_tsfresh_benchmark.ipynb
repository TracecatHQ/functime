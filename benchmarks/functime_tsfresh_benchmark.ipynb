{
 "cells": [
  {
   "cell_type": "code",
   "execution_count": 10,
   "metadata": {},
   "outputs": [],
   "source": [
    "import perfplot\n",
    "from typing import Union, Callable\n",
    "import polars as pl\n",
    "import pandas as pd\n",
    "from functime.feature_extraction import tsfresh as f_ts\n",
    "from tsfresh.feature_extraction import feature_calculators as tsfresh"
   ]
  },
  {
   "cell_type": "markdown",
   "metadata": {},
   "source": [
    "## Global Variable\n",
    "\n",
    "We are using the M4 dataset. We create a `pd.DataFrame`, `pl.DataFrame` and `pl.LazyFrame`. Then we define a list of dictionnary with the following structure:\n",
    "<br>\n",
    "(<br>\n",
    "&emsp;  `<functime_function_name>`,<br>\n",
    "&emsp;  `<tsfresh_function_name>`,<br>\n",
    "&emsp;  `<parameters_for_functime_function>`,<br>\n",
    "&emsp;   `<parameters_for_tsfresh_function>`<br>\n",
    ")<br>"
   ]
  },
  {
   "cell_type": "code",
   "execution_count": 11,
   "metadata": {},
   "outputs": [],
   "source": [
    "_M4_DATASET = \"../data/M4_daily.parquet\"\n",
    "\n",
    "DF_PANDAS = pd.melt(pd.read_parquet(_M4_DATASET)).drop(columns=[\"variable\"]).dropna().reset_index(drop=True)\n",
    "DF_PL_EAGER = pl.from_pandas(DF_PANDAS)\n",
    "DF_PL_LAZY = DF_PL_EAGER.lazy()"
   ]
  },
  {
   "cell_type": "code",
   "execution_count": 13,
   "metadata": {},
   "outputs": [
    {
     "ename": "AttributeError",
     "evalue": "module 'functime.feature_extraction.tsfresh' has no attribute 'percent_reoccuring_values'",
     "output_type": "error",
     "traceback": [
      "\u001b[0;31m---------------------------------------------------------------------------\u001b[0m",
      "\u001b[0;31mAttributeError\u001b[0m                            Traceback (most recent call last)",
      "\u001b[1;32m/Users/mathieucayssol/Documents/functime/benchmarks/functime_tsfresh_benchmark.ipynb Cell 4\u001b[0m line \u001b[0;36m4\n\u001b[1;32m      <a href='vscode-notebook-cell:/Users/mathieucayssol/Documents/functime/benchmarks/functime_tsfresh_benchmark.ipynb#X41sZmlsZQ%3D%3D?line=0'>1</a>\u001b[0m _FUNC_PARAMS_BENCH  \u001b[39m=\u001b[39m [\n\u001b[1;32m      <a href='vscode-notebook-cell:/Users/mathieucayssol/Documents/functime/benchmarks/functime_tsfresh_benchmark.ipynb#X41sZmlsZQ%3D%3D?line=1'>2</a>\u001b[0m     (f_ts\u001b[39m.\u001b[39mabsolute_energy, tsfresh\u001b[39m.\u001b[39mabs_energy, {}, {}),\n\u001b[1;32m      <a href='vscode-notebook-cell:/Users/mathieucayssol/Documents/functime/benchmarks/functime_tsfresh_benchmark.ipynb#X41sZmlsZQ%3D%3D?line=2'>3</a>\u001b[0m     (f_ts\u001b[39m.\u001b[39mabsolute_maximum, tsfresh\u001b[39m.\u001b[39mabsolute_maximum, {}, {}),\n\u001b[1;32m      <a href='vscode-notebook-cell:/Users/mathieucayssol/Documents/functime/benchmarks/functime_tsfresh_benchmark.ipynb#X41sZmlsZQ%3D%3D?line=3'>4</a>\u001b[0m     (f_ts\u001b[39m.\u001b[39mabsolute_sum_of_changes, tsfresh\u001b[39m.\u001b[39mabsolute_sum_of_changes, {}, {}),\n\u001b[1;32m      <a href='vscode-notebook-cell:/Users/mathieucayssol/Documents/functime/benchmarks/functime_tsfresh_benchmark.ipynb#X41sZmlsZQ%3D%3D?line=4'>5</a>\u001b[0m     (f_ts\u001b[39m.\u001b[39mapproximate_entropy, tsfresh\u001b[39m.\u001b[39mapproximate_entropy, {\u001b[39m\"\u001b[39m\u001b[39mrun_length\u001b[39m\u001b[39m\"\u001b[39m: \u001b[39m2\u001b[39m, \u001b[39m\"\u001b[39m\u001b[39mfiltering_level\u001b[39m\u001b[39m\"\u001b[39m: \u001b[39m0.5\u001b[39m}, {\u001b[39m\"\u001b[39m\u001b[39mm\u001b[39m\u001b[39m\"\u001b[39m: \u001b[39m2\u001b[39m, \u001b[39m\"\u001b[39m\u001b[39mr\u001b[39m\u001b[39m\"\u001b[39m: \u001b[39m0.5\u001b[39m}),\n\u001b[1;32m      <a href='vscode-notebook-cell:/Users/mathieucayssol/Documents/functime/benchmarks/functime_tsfresh_benchmark.ipynb#X41sZmlsZQ%3D%3D?line=5'>6</a>\u001b[0m     \u001b[39m# (f_ts.augmented_dickey_fuller, tsfresh.augmented_dickey_fuller, \"param\")\u001b[39;00m\n\u001b[1;32m      <a href='vscode-notebook-cell:/Users/mathieucayssol/Documents/functime/benchmarks/functime_tsfresh_benchmark.ipynb#X41sZmlsZQ%3D%3D?line=6'>7</a>\u001b[0m     (f_ts\u001b[39m.\u001b[39mautocorrelation, tsfresh\u001b[39m.\u001b[39mautocorrelation, {\u001b[39m\"\u001b[39m\u001b[39mn_lags\u001b[39m\u001b[39m\"\u001b[39m: \u001b[39m4\u001b[39m}, {\u001b[39m\"\u001b[39m\u001b[39mlag\u001b[39m\u001b[39m\"\u001b[39m: \u001b[39m4\u001b[39m}),\n\u001b[1;32m      <a href='vscode-notebook-cell:/Users/mathieucayssol/Documents/functime/benchmarks/functime_tsfresh_benchmark.ipynb#X41sZmlsZQ%3D%3D?line=7'>8</a>\u001b[0m     (f_ts\u001b[39m.\u001b[39mautoregressive_coefficients, tsfresh\u001b[39m.\u001b[39mar_coefficient, {\u001b[39m\"\u001b[39m\u001b[39mn_lags\u001b[39m\u001b[39m\"\u001b[39m: \u001b[39m4\u001b[39m}, {\u001b[39m\"\u001b[39m\u001b[39mparam\u001b[39m\u001b[39m\"\u001b[39m: [{\u001b[39m\"\u001b[39m\u001b[39mcoeff\u001b[39m\u001b[39m\"\u001b[39m: i, \u001b[39m\"\u001b[39m\u001b[39mk\u001b[39m\u001b[39m\"\u001b[39m: \u001b[39m4\u001b[39m}] \u001b[39mfor\u001b[39;00m i \u001b[39min\u001b[39;00m \u001b[39mrange\u001b[39m(\u001b[39m5\u001b[39m)}),\n\u001b[1;32m      <a href='vscode-notebook-cell:/Users/mathieucayssol/Documents/functime/benchmarks/functime_tsfresh_benchmark.ipynb#X41sZmlsZQ%3D%3D?line=8'>9</a>\u001b[0m     (f_ts\u001b[39m.\u001b[39mbenford_correlation2, tsfresh\u001b[39m.\u001b[39mbenford_correlation, {}, {}),\n\u001b[1;32m     <a href='vscode-notebook-cell:/Users/mathieucayssol/Documents/functime/benchmarks/functime_tsfresh_benchmark.ipynb#X41sZmlsZQ%3D%3D?line=9'>10</a>\u001b[0m     (f_ts\u001b[39m.\u001b[39mbenford_correlation, tsfresh\u001b[39m.\u001b[39mbenford_correlation, {}, {}),\n\u001b[1;32m     <a href='vscode-notebook-cell:/Users/mathieucayssol/Documents/functime/benchmarks/functime_tsfresh_benchmark.ipynb#X41sZmlsZQ%3D%3D?line=10'>11</a>\u001b[0m     (f_ts\u001b[39m.\u001b[39mbinned_entropy, tsfresh\u001b[39m.\u001b[39mbinned_entropy, {\u001b[39m\"\u001b[39m\u001b[39mbin_count\u001b[39m\u001b[39m\"\u001b[39m: \u001b[39m10\u001b[39m}, {\u001b[39m\"\u001b[39m\u001b[39mmax_bins\u001b[39m\u001b[39m\"\u001b[39m: \u001b[39m10\u001b[39m}),\n\u001b[1;32m     <a href='vscode-notebook-cell:/Users/mathieucayssol/Documents/functime/benchmarks/functime_tsfresh_benchmark.ipynb#X41sZmlsZQ%3D%3D?line=11'>12</a>\u001b[0m     (f_ts\u001b[39m.\u001b[39mc3, tsfresh\u001b[39m.\u001b[39mc3, {\u001b[39m\"\u001b[39m\u001b[39mn_lags\u001b[39m\u001b[39m\"\u001b[39m: \u001b[39m10\u001b[39m}, {\u001b[39m\"\u001b[39m\u001b[39mlag\u001b[39m\u001b[39m\"\u001b[39m: \u001b[39m10\u001b[39m}),\n\u001b[1;32m     <a href='vscode-notebook-cell:/Users/mathieucayssol/Documents/functime/benchmarks/functime_tsfresh_benchmark.ipynb#X41sZmlsZQ%3D%3D?line=12'>13</a>\u001b[0m     (f_ts\u001b[39m.\u001b[39mchange_quantiles, tsfresh\u001b[39m.\u001b[39mchange_quantiles, {\u001b[39m\"\u001b[39m\u001b[39mq_low\u001b[39m\u001b[39m\"\u001b[39m: \u001b[39m0.1\u001b[39m, \u001b[39m\"\u001b[39m\u001b[39mq_high\u001b[39m\u001b[39m\"\u001b[39m: \u001b[39m0.9\u001b[39m, \u001b[39m\"\u001b[39m\u001b[39mis_abs\u001b[39m\u001b[39m\"\u001b[39m: \u001b[39mTrue\u001b[39;00m}, {\u001b[39m\"\u001b[39m\u001b[39mql\u001b[39m\u001b[39m\"\u001b[39m: \u001b[39m0.1\u001b[39m, \u001b[39m\"\u001b[39m\u001b[39mqh\u001b[39m\u001b[39m\"\u001b[39m: \u001b[39m0.9\u001b[39m, \u001b[39m\"\u001b[39m\u001b[39misabs\u001b[39m\u001b[39m\"\u001b[39m: \u001b[39mTrue\u001b[39;00m, \u001b[39m\"\u001b[39m\u001b[39mf_agg\u001b[39m\u001b[39m\"\u001b[39m: \u001b[39m\"\u001b[39m\u001b[39mmean\u001b[39m\u001b[39m\"\u001b[39m}),\n\u001b[1;32m     <a href='vscode-notebook-cell:/Users/mathieucayssol/Documents/functime/benchmarks/functime_tsfresh_benchmark.ipynb#X41sZmlsZQ%3D%3D?line=13'>14</a>\u001b[0m     (f_ts\u001b[39m.\u001b[39mcid_ce, tsfresh\u001b[39m.\u001b[39mcid_ce, {\u001b[39m\"\u001b[39m\u001b[39mnormalize\u001b[39m\u001b[39m\"\u001b[39m: \u001b[39mTrue\u001b[39;00m}, {\u001b[39m\"\u001b[39m\u001b[39mnormalize\u001b[39m\u001b[39m\"\u001b[39m: \u001b[39mTrue\u001b[39;00m}),\n\u001b[1;32m     <a href='vscode-notebook-cell:/Users/mathieucayssol/Documents/functime/benchmarks/functime_tsfresh_benchmark.ipynb#X41sZmlsZQ%3D%3D?line=14'>15</a>\u001b[0m     (f_ts\u001b[39m.\u001b[39mcount_above, tsfresh\u001b[39m.\u001b[39mcount_above, {\u001b[39m\"\u001b[39m\u001b[39mthreshold\u001b[39m\u001b[39m\"\u001b[39m: \u001b[39m0.0\u001b[39m}, {\u001b[39m\"\u001b[39m\u001b[39mt\u001b[39m\u001b[39m\"\u001b[39m: \u001b[39m0.0\u001b[39m}),\n\u001b[1;32m     <a href='vscode-notebook-cell:/Users/mathieucayssol/Documents/functime/benchmarks/functime_tsfresh_benchmark.ipynb#X41sZmlsZQ%3D%3D?line=15'>16</a>\u001b[0m     (f_ts\u001b[39m.\u001b[39mcount_above_mean, tsfresh\u001b[39m.\u001b[39mcount_above_mean, {}, {}),\n\u001b[1;32m     <a href='vscode-notebook-cell:/Users/mathieucayssol/Documents/functime/benchmarks/functime_tsfresh_benchmark.ipynb#X41sZmlsZQ%3D%3D?line=16'>17</a>\u001b[0m     (f_ts\u001b[39m.\u001b[39mcount_below, tsfresh\u001b[39m.\u001b[39mcount_below, {\u001b[39m\"\u001b[39m\u001b[39mthreshold\u001b[39m\u001b[39m\"\u001b[39m: \u001b[39m0.0\u001b[39m}, {\u001b[39m\"\u001b[39m\u001b[39mt\u001b[39m\u001b[39m\"\u001b[39m: \u001b[39m0.0\u001b[39m}),\n\u001b[1;32m     <a href='vscode-notebook-cell:/Users/mathieucayssol/Documents/functime/benchmarks/functime_tsfresh_benchmark.ipynb#X41sZmlsZQ%3D%3D?line=17'>18</a>\u001b[0m     (f_ts\u001b[39m.\u001b[39mcount_below_mean, tsfresh\u001b[39m.\u001b[39mcount_below_mean, {}, {}),\n\u001b[1;32m     <a href='vscode-notebook-cell:/Users/mathieucayssol/Documents/functime/benchmarks/functime_tsfresh_benchmark.ipynb#X41sZmlsZQ%3D%3D?line=18'>19</a>\u001b[0m     \u001b[39m# (f_ts.cwt_coefficients, tsfresh.cwt_coefficients, {\"widths\": (1, 2, 3), \"n_coefficients\": 2},{\"param\": {\"widths\": (1, 2, 3), \"coeff\": 2, \"w\": 1}}),\u001b[39;00m\n\u001b[1;32m     <a href='vscode-notebook-cell:/Users/mathieucayssol/Documents/functime/benchmarks/functime_tsfresh_benchmark.ipynb#X41sZmlsZQ%3D%3D?line=19'>20</a>\u001b[0m     (f_ts\u001b[39m.\u001b[39menergy_ratios, tsfresh\u001b[39m.\u001b[39menergy_ratio_by_chunks, {\u001b[39m\"\u001b[39m\u001b[39mn_chunks\u001b[39m\u001b[39m\"\u001b[39m: \u001b[39m6\u001b[39m}, {\u001b[39m\"\u001b[39m\u001b[39mparam\u001b[39m\u001b[39m\"\u001b[39m: [{\u001b[39m\"\u001b[39m\u001b[39mnum_segments\u001b[39m\u001b[39m\"\u001b[39m: \u001b[39m6\u001b[39m, \u001b[39m\"\u001b[39m\u001b[39msegment_focus\u001b[39m\u001b[39m\"\u001b[39m: i} \u001b[39mfor\u001b[39;00m i \u001b[39min\u001b[39;00m \u001b[39mrange\u001b[39m(\u001b[39m6\u001b[39m)]}),\n\u001b[1;32m     <a href='vscode-notebook-cell:/Users/mathieucayssol/Documents/functime/benchmarks/functime_tsfresh_benchmark.ipynb#X41sZmlsZQ%3D%3D?line=20'>21</a>\u001b[0m     (f_ts\u001b[39m.\u001b[39mfirst_location_of_maximum, tsfresh\u001b[39m.\u001b[39mfirst_location_of_maximum, {}, {}),\n\u001b[1;32m     <a href='vscode-notebook-cell:/Users/mathieucayssol/Documents/functime/benchmarks/functime_tsfresh_benchmark.ipynb#X41sZmlsZQ%3D%3D?line=21'>22</a>\u001b[0m     (f_ts\u001b[39m.\u001b[39mfirst_location_of_minimum, tsfresh\u001b[39m.\u001b[39mfirst_location_of_minimum, {}, {}),\n\u001b[1;32m     <a href='vscode-notebook-cell:/Users/mathieucayssol/Documents/functime/benchmarks/functime_tsfresh_benchmark.ipynb#X41sZmlsZQ%3D%3D?line=22'>23</a>\u001b[0m     \u001b[39m# (f_ts.fourier_entropy, tsfresh.fourier_entropy, {\"n_bins\": 10}, {\"bins\": 10}),\u001b[39;00m\n\u001b[1;32m     <a href='vscode-notebook-cell:/Users/mathieucayssol/Documents/functime/benchmarks/functime_tsfresh_benchmark.ipynb#X41sZmlsZQ%3D%3D?line=23'>24</a>\u001b[0m     \u001b[39m# (f_ts.friedrich_coefficients, tsfresh.friedrich_coefficients, {\"polynomial_order\": 3, \"n_quantiles\": 30}, {\"params\": [{\"m\": 3, \"r\": 30}]}),\u001b[39;00m\n\u001b[1;32m     <a href='vscode-notebook-cell:/Users/mathieucayssol/Documents/functime/benchmarks/functime_tsfresh_benchmark.ipynb#X41sZmlsZQ%3D%3D?line=24'>25</a>\u001b[0m     (f_ts\u001b[39m.\u001b[39mhas_duplicate, tsfresh\u001b[39m.\u001b[39mhas_duplicate, {}, {}),\n\u001b[1;32m     <a href='vscode-notebook-cell:/Users/mathieucayssol/Documents/functime/benchmarks/functime_tsfresh_benchmark.ipynb#X41sZmlsZQ%3D%3D?line=25'>26</a>\u001b[0m     (f_ts\u001b[39m.\u001b[39mhas_duplicate_max, tsfresh\u001b[39m.\u001b[39mhas_duplicate_max, {}, {}),\n\u001b[1;32m     <a href='vscode-notebook-cell:/Users/mathieucayssol/Documents/functime/benchmarks/functime_tsfresh_benchmark.ipynb#X41sZmlsZQ%3D%3D?line=26'>27</a>\u001b[0m     (f_ts\u001b[39m.\u001b[39mhas_duplicate_min, tsfresh\u001b[39m.\u001b[39mhas_duplicate_min, {}, {}),\n\u001b[1;32m     <a href='vscode-notebook-cell:/Users/mathieucayssol/Documents/functime/benchmarks/functime_tsfresh_benchmark.ipynb#X41sZmlsZQ%3D%3D?line=27'>28</a>\u001b[0m     (f_ts\u001b[39m.\u001b[39mindex_mass_quantile, tsfresh\u001b[39m.\u001b[39mindex_mass_quantile, {\u001b[39m\"\u001b[39m\u001b[39mq\u001b[39m\u001b[39m\"\u001b[39m: \u001b[39m0.5\u001b[39m}, {\u001b[39m\"\u001b[39m\u001b[39mparam\u001b[39m\u001b[39m\"\u001b[39m: [{\u001b[39m\"\u001b[39m\u001b[39mq\u001b[39m\u001b[39m\"\u001b[39m: \u001b[39m0.5\u001b[39m}]}),\n\u001b[1;32m     <a href='vscode-notebook-cell:/Users/mathieucayssol/Documents/functime/benchmarks/functime_tsfresh_benchmark.ipynb#X41sZmlsZQ%3D%3D?line=28'>29</a>\u001b[0m     (f_ts\u001b[39m.\u001b[39mlarge_standard_deviation, tsfresh\u001b[39m.\u001b[39mlarge_standard_deviation, {\u001b[39m\"\u001b[39m\u001b[39mratio\u001b[39m\u001b[39m\"\u001b[39m: \u001b[39m0.25\u001b[39m}, {\u001b[39m\"\u001b[39m\u001b[39mr\u001b[39m\u001b[39m\"\u001b[39m: \u001b[39m0.25\u001b[39m}),\n\u001b[1;32m     <a href='vscode-notebook-cell:/Users/mathieucayssol/Documents/functime/benchmarks/functime_tsfresh_benchmark.ipynb#X41sZmlsZQ%3D%3D?line=29'>30</a>\u001b[0m     (f_ts\u001b[39m.\u001b[39mlast_location_of_maximum, tsfresh\u001b[39m.\u001b[39mlast_location_of_maximum, {}, {}),\n\u001b[1;32m     <a href='vscode-notebook-cell:/Users/mathieucayssol/Documents/functime/benchmarks/functime_tsfresh_benchmark.ipynb#X41sZmlsZQ%3D%3D?line=30'>31</a>\u001b[0m     (f_ts\u001b[39m.\u001b[39mlast_location_of_minimum, tsfresh\u001b[39m.\u001b[39mlast_location_of_minimum, {}, {}),\n\u001b[1;32m     <a href='vscode-notebook-cell:/Users/mathieucayssol/Documents/functime/benchmarks/functime_tsfresh_benchmark.ipynb#X41sZmlsZQ%3D%3D?line=31'>32</a>\u001b[0m     \u001b[39m# (f_ts.lempel_ziv_complexity, tsfresh.lempel_ziv_complexity, {\"n_bins\": 5}, {\"bins\": 5}),\u001b[39;00m\n\u001b[1;32m     <a href='vscode-notebook-cell:/Users/mathieucayssol/Documents/functime/benchmarks/functime_tsfresh_benchmark.ipynb#X41sZmlsZQ%3D%3D?line=32'>33</a>\u001b[0m     \u001b[39m# (f_ts.linear_trend, tsfresh.linear_trend, {}, {\"params\": [{\"attr\": \"slope\"}, {\"attr\": \"intercept\"}]}),\u001b[39;00m\n\u001b[1;32m     <a href='vscode-notebook-cell:/Users/mathieucayssol/Documents/functime/benchmarks/functime_tsfresh_benchmark.ipynb#X41sZmlsZQ%3D%3D?line=33'>34</a>\u001b[0m     (f_ts\u001b[39m.\u001b[39mlongest_streak_above_mean, tsfresh\u001b[39m.\u001b[39mlongest_strike_above_mean, {}, {}),\n\u001b[1;32m     <a href='vscode-notebook-cell:/Users/mathieucayssol/Documents/functime/benchmarks/functime_tsfresh_benchmark.ipynb#X41sZmlsZQ%3D%3D?line=34'>35</a>\u001b[0m     (f_ts\u001b[39m.\u001b[39mlongest_streak_below_mean, tsfresh\u001b[39m.\u001b[39mlongest_strike_below_mean, {}, {}),\n\u001b[1;32m     <a href='vscode-notebook-cell:/Users/mathieucayssol/Documents/functime/benchmarks/functime_tsfresh_benchmark.ipynb#X41sZmlsZQ%3D%3D?line=35'>36</a>\u001b[0m     (f_ts\u001b[39m.\u001b[39mmean_abs_change, tsfresh\u001b[39m.\u001b[39mmean_abs_change, {}, {}),\n\u001b[1;32m     <a href='vscode-notebook-cell:/Users/mathieucayssol/Documents/functime/benchmarks/functime_tsfresh_benchmark.ipynb#X41sZmlsZQ%3D%3D?line=36'>37</a>\u001b[0m     (f_ts\u001b[39m.\u001b[39mmean_change, tsfresh\u001b[39m.\u001b[39mmean_change, {}, {}),\n\u001b[1;32m     <a href='vscode-notebook-cell:/Users/mathieucayssol/Documents/functime/benchmarks/functime_tsfresh_benchmark.ipynb#X41sZmlsZQ%3D%3D?line=37'>38</a>\u001b[0m     (f_ts\u001b[39m.\u001b[39mmean_n_absolute_max, tsfresh\u001b[39m.\u001b[39mmean_n_absolute_max, {\u001b[39m\"\u001b[39m\u001b[39mn_maxima\u001b[39m\u001b[39m\"\u001b[39m: \u001b[39m20\u001b[39m}, {\u001b[39m\"\u001b[39m\u001b[39mnumber_of_maxima\u001b[39m\u001b[39m\"\u001b[39m: \u001b[39m20\u001b[39m}),\n\u001b[1;32m     <a href='vscode-notebook-cell:/Users/mathieucayssol/Documents/functime/benchmarks/functime_tsfresh_benchmark.ipynb#X41sZmlsZQ%3D%3D?line=38'>39</a>\u001b[0m     (f_ts\u001b[39m.\u001b[39mmean_second_derivative_central, tsfresh\u001b[39m.\u001b[39mmean_second_derivative_central, {}, {}),\n\u001b[1;32m     <a href='vscode-notebook-cell:/Users/mathieucayssol/Documents/functime/benchmarks/functime_tsfresh_benchmark.ipynb#X41sZmlsZQ%3D%3D?line=39'>40</a>\u001b[0m     (f_ts\u001b[39m.\u001b[39mnumber_crossings, tsfresh\u001b[39m.\u001b[39mnumber_crossing_m, {\u001b[39m\"\u001b[39m\u001b[39mcrossing_value\u001b[39m\u001b[39m\"\u001b[39m: \u001b[39m0.0\u001b[39m}, {\u001b[39m\"\u001b[39m\u001b[39mm\u001b[39m\u001b[39m\"\u001b[39m: \u001b[39m0.0\u001b[39m}),\n\u001b[1;32m     <a href='vscode-notebook-cell:/Users/mathieucayssol/Documents/functime/benchmarks/functime_tsfresh_benchmark.ipynb#X41sZmlsZQ%3D%3D?line=40'>41</a>\u001b[0m     (f_ts\u001b[39m.\u001b[39mnumber_cwt_peaks, tsfresh\u001b[39m.\u001b[39mnumber_cwt_peaks, {\u001b[39m\"\u001b[39m\u001b[39mmax_width: 5\u001b[39m\u001b[39m\"\u001b[39m}, {\u001b[39m\"\u001b[39m\u001b[39mn\u001b[39m\u001b[39m\"\u001b[39m: \u001b[39m5\u001b[39m}),\n\u001b[1;32m     <a href='vscode-notebook-cell:/Users/mathieucayssol/Documents/functime/benchmarks/functime_tsfresh_benchmark.ipynb#X41sZmlsZQ%3D%3D?line=41'>42</a>\u001b[0m     (f_ts\u001b[39m.\u001b[39mnumber_peaks, tsfresh\u001b[39m.\u001b[39mnumber_peaks, {\u001b[39m\"\u001b[39m\u001b[39msupport\u001b[39m\u001b[39m\"\u001b[39m: \u001b[39m5\u001b[39m}, {\u001b[39m\"\u001b[39m\u001b[39mn\u001b[39m\u001b[39m\"\u001b[39m: \u001b[39m5\u001b[39m}),\n\u001b[1;32m     <a href='vscode-notebook-cell:/Users/mathieucayssol/Documents/functime/benchmarks/functime_tsfresh_benchmark.ipynb#X41sZmlsZQ%3D%3D?line=42'>43</a>\u001b[0m     \u001b[39m# (f_ts.partial_autocorrelation, tsfresh.partial_autocorrelation, \"param\"),\u001b[39;00m\n\u001b[0;32m---> <a href='vscode-notebook-cell:/Users/mathieucayssol/Documents/functime/benchmarks/functime_tsfresh_benchmark.ipynb#X41sZmlsZQ%3D%3D?line=43'>44</a>\u001b[0m     (f_ts\u001b[39m.\u001b[39;49mpercent_reoccuring_values, tsfresh\u001b[39m.\u001b[39mpercentage_of_reoccurring_values_to_all_values, {}, {}),\n\u001b[1;32m     <a href='vscode-notebook-cell:/Users/mathieucayssol/Documents/functime/benchmarks/functime_tsfresh_benchmark.ipynb#X41sZmlsZQ%3D%3D?line=44'>45</a>\u001b[0m     (f_ts\u001b[39m.\u001b[39mpercent_reocurring_points, tsfresh\u001b[39m.\u001b[39mpercentage_of_reoccurring_datapoints_to_all_datapoints, {}, {}),\n\u001b[1;32m     <a href='vscode-notebook-cell:/Users/mathieucayssol/Documents/functime/benchmarks/functime_tsfresh_benchmark.ipynb#X41sZmlsZQ%3D%3D?line=45'>46</a>\u001b[0m     (f_ts\u001b[39m.\u001b[39mpermutation_entropy, tsfresh\u001b[39m.\u001b[39mpermutation_entropy, {\u001b[39m\"\u001b[39m\u001b[39mtau\u001b[39m\u001b[39m\"\u001b[39m: \u001b[39m1\u001b[39m,\u001b[39m\"\u001b[39m\u001b[39mn_dims\u001b[39m\u001b[39m\"\u001b[39m: \u001b[39m3\u001b[39m}, {\u001b[39m\"\u001b[39m\u001b[39mtau\u001b[39m\u001b[39m\"\u001b[39m: \u001b[39m1\u001b[39m,\u001b[39m\"\u001b[39m\u001b[39mdimension\u001b[39m\u001b[39m\"\u001b[39m: \u001b[39m3\u001b[39m}),\n\u001b[1;32m     <a href='vscode-notebook-cell:/Users/mathieucayssol/Documents/functime/benchmarks/functime_tsfresh_benchmark.ipynb#X41sZmlsZQ%3D%3D?line=46'>47</a>\u001b[0m     (f_ts\u001b[39m.\u001b[39mrange_count, tsfresh\u001b[39m.\u001b[39mrange_count, {\u001b[39m\"\u001b[39m\u001b[39mlower\u001b[39m\u001b[39m\"\u001b[39m: \u001b[39m0\u001b[39m, \u001b[39m\"\u001b[39m\u001b[39mupper\u001b[39m\u001b[39m\"\u001b[39m: \u001b[39m9\u001b[39m, \u001b[39m\"\u001b[39m\u001b[39mclosed\u001b[39m\u001b[39m\"\u001b[39m: \u001b[39m'\u001b[39m\u001b[39mnone\u001b[39m\u001b[39m'\u001b[39m}, {\u001b[39m\"\u001b[39m\u001b[39mmin\u001b[39m\u001b[39m\"\u001b[39m: \u001b[39m0\u001b[39m, \u001b[39m\"\u001b[39m\u001b[39mmax\u001b[39m\u001b[39m\"\u001b[39m: \u001b[39m9\u001b[39m}),\n\u001b[1;32m     <a href='vscode-notebook-cell:/Users/mathieucayssol/Documents/functime/benchmarks/functime_tsfresh_benchmark.ipynb#X41sZmlsZQ%3D%3D?line=47'>48</a>\u001b[0m     (f_ts\u001b[39m.\u001b[39mratio_beyond_r_sigma, tsfresh\u001b[39m.\u001b[39mratio_beyond_r_sigma, {\u001b[39m\"\u001b[39m\u001b[39mratio\u001b[39m\u001b[39m\"\u001b[39m: \u001b[39m2\u001b[39m}, {\u001b[39m\"\u001b[39m\u001b[39mr\u001b[39m\u001b[39m\"\u001b[39m: \u001b[39m2\u001b[39m}),\n\u001b[1;32m     <a href='vscode-notebook-cell:/Users/mathieucayssol/Documents/functime/benchmarks/functime_tsfresh_benchmark.ipynb#X41sZmlsZQ%3D%3D?line=48'>49</a>\u001b[0m     (f_ts\u001b[39m.\u001b[39mratio_n_unique_to_length, tsfresh\u001b[39m.\u001b[39mratio_value_number_to_time_series_length, {}, {}),\n\u001b[1;32m     <a href='vscode-notebook-cell:/Users/mathieucayssol/Documents/functime/benchmarks/functime_tsfresh_benchmark.ipynb#X41sZmlsZQ%3D%3D?line=49'>50</a>\u001b[0m     (f_ts\u001b[39m.\u001b[39mroot_mean_square, tsfresh\u001b[39m.\u001b[39mroot_mean_square, {}, {}),\n\u001b[1;32m     <a href='vscode-notebook-cell:/Users/mathieucayssol/Documents/functime/benchmarks/functime_tsfresh_benchmark.ipynb#X41sZmlsZQ%3D%3D?line=50'>51</a>\u001b[0m     (f_ts\u001b[39m.\u001b[39msample_entropy, tsfresh\u001b[39m.\u001b[39msample_entropy, {}, {}),\n\u001b[1;32m     <a href='vscode-notebook-cell:/Users/mathieucayssol/Documents/functime/benchmarks/functime_tsfresh_benchmark.ipynb#X41sZmlsZQ%3D%3D?line=51'>52</a>\u001b[0m     (f_ts\u001b[39m.\u001b[39mspkt_welch_density, tsfresh\u001b[39m.\u001b[39mspkt_welch_density, {\u001b[39m\"\u001b[39m\u001b[39mn_coeffs\u001b[39m\u001b[39m\"\u001b[39m: \u001b[39m10\u001b[39m}, {\u001b[39m\"\u001b[39m\u001b[39mparam\u001b[39m\u001b[39m\"\u001b[39m: [{\u001b[39m\"\u001b[39m\u001b[39mcoeff\u001b[39m\u001b[39m\"\u001b[39m: i} \u001b[39mfor\u001b[39;00m i \u001b[39min\u001b[39;00m \u001b[39mrange\u001b[39m(\u001b[39m10\u001b[39m)]}),\n\u001b[1;32m     <a href='vscode-notebook-cell:/Users/mathieucayssol/Documents/functime/benchmarks/functime_tsfresh_benchmark.ipynb#X41sZmlsZQ%3D%3D?line=52'>53</a>\u001b[0m     (f_ts\u001b[39m.\u001b[39msum_reocurring_points, tsfresh\u001b[39m.\u001b[39msum_of_reoccurring_data_points, {}, {}),\n\u001b[1;32m     <a href='vscode-notebook-cell:/Users/mathieucayssol/Documents/functime/benchmarks/functime_tsfresh_benchmark.ipynb#X41sZmlsZQ%3D%3D?line=53'>54</a>\u001b[0m     (f_ts\u001b[39m.\u001b[39msum_reocurring_values, tsfresh\u001b[39m.\u001b[39msum_of_reoccurring_values, {}, {}),\n\u001b[1;32m     <a href='vscode-notebook-cell:/Users/mathieucayssol/Documents/functime/benchmarks/functime_tsfresh_benchmark.ipynb#X41sZmlsZQ%3D%3D?line=54'>55</a>\u001b[0m     (f_ts\u001b[39m.\u001b[39msymmetry_looking, tsfresh\u001b[39m.\u001b[39msymmetry_looking, {\u001b[39m\"\u001b[39m\u001b[39mratio\u001b[39m\u001b[39m\"\u001b[39m: \u001b[39m0.25\u001b[39m}, {\u001b[39m\"\u001b[39m\u001b[39mparam\u001b[39m\u001b[39m\"\u001b[39m: [{\u001b[39m\"\u001b[39m\u001b[39mr\u001b[39m\u001b[39m\"\u001b[39m: \u001b[39m0.25\u001b[39m}]}),\n\u001b[1;32m     <a href='vscode-notebook-cell:/Users/mathieucayssol/Documents/functime/benchmarks/functime_tsfresh_benchmark.ipynb#X41sZmlsZQ%3D%3D?line=55'>56</a>\u001b[0m     (f_ts\u001b[39m.\u001b[39mtime_reversal_asymmetry_statistic, tsfresh\u001b[39m.\u001b[39mtime_reversal_asymmetry_statistic, {\u001b[39m\"\u001b[39m\u001b[39mn_lags\u001b[39m\u001b[39m\"\u001b[39m: \u001b[39m3\u001b[39m}, {\u001b[39m\"\u001b[39m\u001b[39mlag\u001b[39m\u001b[39m\"\u001b[39m: \u001b[39m3\u001b[39m}),\n\u001b[1;32m     <a href='vscode-notebook-cell:/Users/mathieucayssol/Documents/functime/benchmarks/functime_tsfresh_benchmark.ipynb#X41sZmlsZQ%3D%3D?line=56'>57</a>\u001b[0m     (f_ts\u001b[39m.\u001b[39mvariation_coefficient, tsfresh\u001b[39m.\u001b[39mvariation_coefficient, {}, {}),\n\u001b[1;32m     <a href='vscode-notebook-cell:/Users/mathieucayssol/Documents/functime/benchmarks/functime_tsfresh_benchmark.ipynb#X41sZmlsZQ%3D%3D?line=57'>58</a>\u001b[0m     (f_ts\u001b[39m.\u001b[39mvar_gt_std, tsfresh\u001b[39m.\u001b[39mvariance_larger_than_standard_deviation, {}, {})\n\u001b[1;32m     <a href='vscode-notebook-cell:/Users/mathieucayssol/Documents/functime/benchmarks/functime_tsfresh_benchmark.ipynb#X41sZmlsZQ%3D%3D?line=58'>59</a>\u001b[0m ]\n",
      "\u001b[0;31mAttributeError\u001b[0m: module 'functime.feature_extraction.tsfresh' has no attribute 'percent_reoccuring_values'"
     ]
    }
   ],
   "source": [
    "_FUNC_PARAMS_BENCH  = [\n",
    "    (f_ts.absolute_energy, tsfresh.abs_energy, {}, {}),\n",
    "    (f_ts.absolute_maximum, tsfresh.absolute_maximum, {}, {}),\n",
    "    (f_ts.absolute_sum_of_changes, tsfresh.absolute_sum_of_changes, {}, {}),\n",
    "    (f_ts.approximate_entropy, tsfresh.approximate_entropy, {\"run_length\": 2, \"filtering_level\": 0.5}, {\"m\": 2, \"r\": 0.5}),\n",
    "    # (f_ts.augmented_dickey_fuller, tsfresh.augmented_dickey_fuller, \"param\")\n",
    "    (f_ts.autocorrelation, tsfresh.autocorrelation, {\"n_lags\": 4}, {\"lag\": 4}),\n",
    "    (f_ts.autoregressive_coefficients, tsfresh.ar_coefficient, {\"n_lags\": 4}, {\"param\": [{\"coeff\": i, \"k\": 4}] for i in range(5)}),\n",
    "    (f_ts.benford_correlation2, tsfresh.benford_correlation, {}, {}),\n",
    "    (f_ts.benford_correlation, tsfresh.benford_correlation, {}, {}),\n",
    "    (f_ts.binned_entropy, tsfresh.binned_entropy, {\"bin_count\": 10}, {\"max_bins\": 10}),\n",
    "    (f_ts.c3, tsfresh.c3, {\"n_lags\": 10}, {\"lag\": 10}),\n",
    "    (f_ts.change_quantiles, tsfresh.change_quantiles, {\"q_low\": 0.1, \"q_high\": 0.9, \"is_abs\": True}, {\"ql\": 0.1, \"qh\": 0.9, \"isabs\": True, \"f_agg\": \"mean\"}),\n",
    "    (f_ts.cid_ce, tsfresh.cid_ce, {\"normalize\": True}, {\"normalize\": True}),\n",
    "    (f_ts.count_above, tsfresh.count_above, {\"threshold\": 0.0}, {\"t\": 0.0}),\n",
    "    (f_ts.count_above_mean, tsfresh.count_above_mean, {}, {}),\n",
    "    (f_ts.count_below, tsfresh.count_below, {\"threshold\": 0.0}, {\"t\": 0.0}),\n",
    "    (f_ts.count_below_mean, tsfresh.count_below_mean, {}, {}),\n",
    "    # (f_ts.cwt_coefficients, tsfresh.cwt_coefficients, {\"widths\": (1, 2, 3), \"n_coefficients\": 2},{\"param\": {\"widths\": (1, 2, 3), \"coeff\": 2, \"w\": 1}}),\n",
    "    (f_ts.energy_ratios, tsfresh.energy_ratio_by_chunks, {\"n_chunks\": 6}, {\"param\": [{\"num_segments\": 6, \"segment_focus\": i} for i in range(6)]}),\n",
    "    (f_ts.first_location_of_maximum, tsfresh.first_location_of_maximum, {}, {}),\n",
    "    (f_ts.first_location_of_minimum, tsfresh.first_location_of_minimum, {}, {}),\n",
    "    # (f_ts.fourier_entropy, tsfresh.fourier_entropy, {\"n_bins\": 10}, {\"bins\": 10}),\n",
    "    # (f_ts.friedrich_coefficients, tsfresh.friedrich_coefficients, {\"polynomial_order\": 3, \"n_quantiles\": 30}, {\"params\": [{\"m\": 3, \"r\": 30}]}),\n",
    "    (f_ts.has_duplicate, tsfresh.has_duplicate, {}, {}),\n",
    "    (f_ts.has_duplicate_max, tsfresh.has_duplicate_max, {}, {}),\n",
    "    (f_ts.has_duplicate_min, tsfresh.has_duplicate_min, {}, {}),\n",
    "    (f_ts.index_mass_quantile, tsfresh.index_mass_quantile, {\"q\": 0.5}, {\"param\": [{\"q\": 0.5}]}),\n",
    "    (f_ts.large_standard_deviation, tsfresh.large_standard_deviation, {\"ratio\": 0.25}, {\"r\": 0.25}),\n",
    "    (f_ts.last_location_of_maximum, tsfresh.last_location_of_maximum, {}, {}),\n",
    "    (f_ts.last_location_of_minimum, tsfresh.last_location_of_minimum, {}, {}),\n",
    "    # (f_ts.lempel_ziv_complexity, tsfresh.lempel_ziv_complexity, {\"n_bins\": 5}, {\"bins\": 5}),\n",
    "    # (f_ts.linear_trend, tsfresh.linear_trend, {}, {\"params\": [{\"attr\": \"slope\"}, {\"attr\": \"intercept\"}]}),\n",
    "    (f_ts.longest_streak_above_mean, tsfresh.longest_strike_above_mean, {}, {}),\n",
    "    (f_ts.longest_streak_below_mean, tsfresh.longest_strike_below_mean, {}, {}),\n",
    "    (f_ts.mean_abs_change, tsfresh.mean_abs_change, {}, {}),\n",
    "    (f_ts.mean_change, tsfresh.mean_change, {}, {}),\n",
    "    (f_ts.mean_n_absolute_max, tsfresh.mean_n_absolute_max, {\"n_maxima\": 20}, {\"number_of_maxima\": 20}),\n",
    "    (f_ts.mean_second_derivative_central, tsfresh.mean_second_derivative_central, {}, {}),\n",
    "    (f_ts.number_crossings, tsfresh.number_crossing_m, {\"crossing_value\": 0.0}, {\"m\": 0.0}),\n",
    "    (f_ts.number_cwt_peaks, tsfresh.number_cwt_peaks, {\"max_width: 5\"}, {\"n\": 5}),\n",
    "    (f_ts.number_peaks, tsfresh.number_peaks, {\"support\": 5}, {\"n\": 5}),\n",
    "    # (f_ts.partial_autocorrelation, tsfresh.partial_autocorrelation, \"param\"),\n",
    "    (f_ts.percent_reoccurring_values, tsfresh.percentage_of_reoccurring_values_to_all_values, {}, {}),\n",
    "    (f_ts.percent_reoccurring_points, tsfresh.percentage_of_reoccurring_datapoints_to_all_datapoints, {}, {}),\n",
    "    (f_ts.permutation_entropy, tsfresh.permutation_entropy, {\"tau\": 1,\"n_dims\": 3}, {\"tau\": 1,\"dimension\": 3}),\n",
    "    (f_ts.range_count, tsfresh.range_count, {\"lower\": 0, \"upper\": 9, \"closed\": 'none'}, {\"min\": 0, \"max\": 9}),\n",
    "    (f_ts.ratio_beyond_r_sigma, tsfresh.ratio_beyond_r_sigma, {\"ratio\": 2}, {\"r\": 2}),\n",
    "    (f_ts.ratio_n_unique_to_length, tsfresh.ratio_value_number_to_time_series_length, {}, {}),\n",
    "    (f_ts.root_mean_square, tsfresh.root_mean_square, {}, {}),\n",
    "    (f_ts.sample_entropy, tsfresh.sample_entropy, {}, {}),\n",
    "    (f_ts.spkt_welch_density, tsfresh.spkt_welch_density, {\"n_coeffs\": 10}, {\"param\": [{\"coeff\": i} for i in range(10)]}),\n",
    "    (f_ts.sum_reoccurring_points, tsfresh.sum_of_reoccurring_data_points, {}, {}),\n",
    "    (f_ts.sum_reoccurring_values, tsfresh.sum_of_reoccurring_values, {}, {}),\n",
    "    (f_ts.symmetry_looking, tsfresh.symmetry_looking, {\"ratio\": 0.25}, {\"param\": [{\"r\": 0.25}]}),\n",
    "    (f_ts.time_reversal_asymmetry_statistic, tsfresh.time_reversal_asymmetry_statistic, {\"n_lags\": 3}, {\"lag\": 3}),\n",
    "    (f_ts.variation_coefficient, tsfresh.variation_coefficient, {}, {}),\n",
    "    (f_ts.var_gt_std, tsfresh.variance_larger_than_standard_deviation, {}, {})\n",
    "]"
   ]
  },
  {
   "cell_type": "markdown",
   "metadata": {},
   "source": [
    "## Benchmark tsfresh vs functime\n",
    "\n",
    "Benchmark function to compare the performance of functime's against tsfresh's' function. You need to provide the content the values contained in the list `_FUNC_PARAMS_BENCH`. The time series length is taken for \"n\" from 2^6 to 2^24 (except )"
   ]
  },
  {
   "cell_type": "code",
   "execution_count": null,
   "metadata": {},
   "outputs": [],
   "source": [
    "def benchmark(f_feat: Callable, ts_feat: Callable, f_params: dict, ts_params: dict, expr: bool):\n",
    "    upper_n = 24\n",
    "    if f_feat.__name__ in (\"binned_entropy\", \"approximate_entropy\", \"permutation_entropy\", \"sample_entropy\"):\n",
    "        upper_n = 15\n",
    "    benchmark = perfplot.bench(\n",
    "        setup = lambda n: (DF_PANDAS.head(n), DF_PL_EAGER.head(n)),\n",
    "        kernels = [\n",
    "            lambda x, _y: ts_feat(x[\"value\"], **ts_params),\n",
    "            lambda _x, y: f_feat(y[\"value\"], **f_params) if not expr else y.select(f_feat(pl.col(\"value\"), **f_params))\n",
    "        ],\n",
    "        n_range = [2**k for k in range(6, upper_n)],\n",
    "        equality_check=False,\n",
    "        labels=[\"tsfresh\", \"tsfresh\", \"functime\"]\n",
    "    )\n",
    "    return benchmark"
   ]
  },
  {
   "cell_type": "markdown",
   "metadata": {},
   "source": [
    "## Benchmark tsfresh vs functime for all the functions\n",
    "\n",
    "Loop over `_FUNC_PARAMS_BENCH` and call `benchmark()` for each iteration."
   ]
  },
  {
   "cell_type": "code",
   "execution_count": null,
   "metadata": {},
   "outputs": [],
   "source": [
    "def all_benchmarks(params: list[tuple], expr: bool)-> list:\n",
    "    bench_df = pl.DataFrame(\n",
    "        schema={\n",
    "            \"id\": pl.Utf8,\n",
    "            \"n\": pl.Int64,\n",
    "            \"tsfresh\": pl.Float64,\n",
    "            \"functime\": pl.Float64,\n",
    "            \"X_time\": pl.Float64\n",
    "        }\n",
    "    )\n",
    "    for x in params:\n",
    "        try:\n",
    "            print(\"Feature: {}\".format(x[0].__name__))\n",
    "            bench = benchmark(\n",
    "                f_feat = x[0],\n",
    "                ts_feat = x[1],\n",
    "                f_params = x[2],\n",
    "                ts_params = x[3],\n",
    "                expr = expr\n",
    "            )\n",
    "            bench_df = pl.concat([\n",
    "                pl.DataFrame({\n",
    "                    \"id\": [x[0].__name__]*len(bench.n_range),\n",
    "                    \"n\": bench.n_range,\n",
    "                    \"tsfresh\": bench.timings_s[0],\n",
    "                    \"functime\": bench.timings_s[1],\n",
    "                    \"X_time\": bench.timings_s[0] / bench.timings_s[1]                \n",
    "                }),\n",
    "                bench_df]\n",
    "            )\n",
    "        except:\n",
    "            print(\"Failure for feature: {}\".format(x[0].__name__))\n",
    "    return bench_df"
   ]
  },
  {
   "cell_type": "markdown",
   "metadata": {},
   "source": [
    "## Run and save the benchmark"
   ]
  },
  {
   "cell_type": "code",
   "execution_count": null,
   "metadata": {},
   "outputs": [],
   "source": [
    "def benchmark_table(df: pl.DataFrame):\n",
    "    df_pivot = df.pivot(index=\"id\", values=\"X_time\", columns=\"n\")\n",
    "    df = df_pivot.with_columns(\n",
    "        avg = df_pivot.mean(axis=1)\n",
    "    )\n",
    "    return df"
   ]
  },
  {
   "cell_type": "code",
   "execution_count": 6,
   "metadata": {},
   "outputs": [
    {
     "ename": "NameError",
     "evalue": "name 'all_benchmarks' is not defined",
     "output_type": "error",
     "traceback": [
      "\u001b[0;31m---------------------------------------------------------------------------\u001b[0m",
      "\u001b[0;31mNameError\u001b[0m                                 Traceback (most recent call last)",
      "\u001b[1;32m/Users/mathieucayssol/Documents/functime/benchmarks/functime_tsfresh_benchmark.ipynb Cell 10\u001b[0m line \u001b[0;36m1\n\u001b[0;32m----> <a href='vscode-notebook-cell:/Users/mathieucayssol/Documents/functime/benchmarks/functime_tsfresh_benchmark.ipynb#X46sZmlsZQ%3D%3D?line=0'>1</a>\u001b[0m bench_expr \u001b[39m=\u001b[39m all_benchmarks(params \u001b[39m=\u001b[39m _FUNC_PARAMS_BENCH, expr \u001b[39m=\u001b[39m \u001b[39mTrue\u001b[39;00m)\n",
      "\u001b[0;31mNameError\u001b[0m: name 'all_benchmarks' is not defined"
     ]
    }
   ],
   "source": [
    "bench_expr = all_benchmarks(params = _FUNC_PARAMS_BENCH, expr = True)"
   ]
  },
  {
   "cell_type": "code",
   "execution_count": null,
   "metadata": {},
   "outputs": [],
   "source": [
    "bench_series = all_benchmarks(params = _FUNC_PARAMS_BENCH, expr = False)"
   ]
  },
  {
   "cell_type": "code",
   "execution_count": null,
   "metadata": {},
   "outputs": [],
   "source": [
    "df_expr = benchmark_table(bench_expr)\n",
    "df_expr.write_parquet(\"../benchmarks/benchmark_tsfresh_vs_functime_expr.parquet\")"
   ]
  },
  {
   "cell_type": "code",
   "execution_count": null,
   "metadata": {},
   "outputs": [],
   "source": [
    "df_series = benchmark_table(bench_series)\n",
    "df_series.write_csv(\"../benchmarks/benchmark_tsfresh_vs_functime_series.parquet\")"
   ]
  }
 ],
 "metadata": {
  "kernelspec": {
   "display_name": ".venv",
   "language": "python",
   "name": "python3"
  },
  "language_info": {
   "codemirror_mode": {
    "name": "ipython",
    "version": 3
   },
   "file_extension": ".py",
   "mimetype": "text/x-python",
   "name": "python",
   "nbconvert_exporter": "python",
   "pygments_lexer": "ipython3",
   "version": "3.11.5"
  },
  "orig_nbformat": 4
 },
 "nbformat": 4,
 "nbformat_minor": 2
}
