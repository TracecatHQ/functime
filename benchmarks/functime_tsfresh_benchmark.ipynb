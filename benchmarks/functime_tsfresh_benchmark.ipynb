{
 "cells": [
  {
   "cell_type": "code",
   "execution_count": 2,
   "metadata": {},
   "outputs": [],
   "source": [
    "import perfplot\n",
    "from typing import Union, Callable\n",
    "import polars as pl\n",
    "import pandas as pd\n",
    "from functime.feature_extraction import tsfresh as f_ts\n",
    "from tsfresh.feature_extraction import feature_calculators as tsfresh"
   ]
  },
  {
   "cell_type": "markdown",
   "metadata": {},
   "source": [
    "## Global Variable\n",
    "\n",
    "We are using the M4 dataset. We create a `pd.DataFrame`, `pl.DataFrame` and `pl.LazyFrame`. Then we define a list of dictionnary with the following structure:\n",
    "<br>\n",
    "(<br>\n",
    "&emsp;  `<functime_function_name>`,<br>\n",
    "&emsp;  `<tsfresh_function_name>`,<br>\n",
    "&emsp;  `<parameters_for_functime_function>`,<br>\n",
    "&emsp;   `<parameters_for_tsfresh_function>`<br>\n",
    ")<br>"
   ]
  },
  {
   "cell_type": "code",
   "execution_count": 3,
   "metadata": {},
   "outputs": [],
   "source": [
    "_M4_DATASET = \"../data/M4_daily.parquet\"\n",
    "\n",
    "DF_PANDAS = pd.melt(pd.read_parquet(_M4_DATASET)).drop(columns=[\"variable\"]).dropna().reset_index(drop=True)\n",
    "DF_PL_EAGER = pl.from_pandas(DF_PANDAS)\n",
    "DF_PL_LAZY = DF_PL_EAGER.lazy()"
   ]
  },
  {
   "cell_type": "code",
   "execution_count": 4,
   "metadata": {},
   "outputs": [],
   "source": [
    "_FUNC_PARAMS_BENCH  = [\n",
    "    (f_ts.absolute_energy, tsfresh.abs_energy, {}, {}),\n",
    "    (f_ts.absolute_maximum, tsfresh.absolute_maximum, {}, {}),\n",
    "    (f_ts.absolute_sum_of_changes, tsfresh.absolute_sum_of_changes, {}, {}),\n",
    "    (f_ts.approximate_entropy, tsfresh.approximate_entropy, {\"run_length\": 2, \"filtering_level\": 0.5}, {\"m\": 2, \"r\": 0.5}),\n",
    "    # (f_ts.augmented_dickey_fuller, tsfresh.augmented_dickey_fuller, \"param\")\n",
    "    (f_ts.autocorrelation, tsfresh.autocorrelation, {\"n_lags\": 4}, {\"lag\": 4}),\n",
    "    (f_ts.autoregressive_coefficients, tsfresh.ar_coefficient, {\"n_lags\": 4}, {\"param\": [{\"coeff\": i, \"k\": 4}] for i in range(5)}),\n",
    "    (f_ts.benford_correlation2, tsfresh.benford_correlation, {}, {}),\n",
    "    (f_ts.benford_correlation, tsfresh.benford_correlation, {}, {}),\n",
    "    (f_ts.binned_entropy, tsfresh.binned_entropy, {\"bin_count\": 10}, {\"max_bins\": 10}),\n",
    "    (f_ts.c3, tsfresh.c3, {\"n_lags\": 10}, {\"lag\": 10}),\n",
    "    (f_ts.change_quantiles, tsfresh.change_quantiles, {\"q_low\": 0.1, \"q_high\": 0.9, \"is_abs\": True}, {\"ql\": 0.1, \"qh\": 0.9, \"isabs\": True, \"f_agg\": \"mean\"}),\n",
    "    (f_ts.cid_ce, tsfresh.cid_ce, {\"normalize\": True}, {\"normalize\": True}),\n",
    "    (f_ts.count_above, tsfresh.count_above, {\"threshold\": 0.0}, {\"t\": 0.0}),\n",
    "    (f_ts.count_above_mean, tsfresh.count_above_mean, {}, {}),\n",
    "    (f_ts.count_below, tsfresh.count_below, {\"threshold\": 0.0}, {\"t\": 0.0}),\n",
    "    (f_ts.count_below_mean, tsfresh.count_below_mean, {}, {}),\n",
    "    # (f_ts.cwt_coefficients, tsfresh.cwt_coefficients, {\"widths\": (1, 2, 3), \"n_coefficients\": 2},{\"param\": {\"widths\": (1, 2, 3), \"coeff\": 2, \"w\": 1}}),\n",
    "    (f_ts.energy_ratios, tsfresh.energy_ratio_by_chunks, {\"n_chunks\": 6}, {\"param\": [{\"num_segments\": 6, \"segment_focus\": i} for i in range(6)]}),\n",
    "    (f_ts.first_location_of_maximum, tsfresh.first_location_of_maximum, {}, {}),\n",
    "    (f_ts.first_location_of_minimum, tsfresh.first_location_of_minimum, {}, {}),\n",
    "    # (f_ts.fourier_entropy, tsfresh.fourier_entropy, {\"n_bins\": 10}, {\"bins\": 10}),\n",
    "    # (f_ts.friedrich_coefficients, tsfresh.friedrich_coefficients, {\"polynomial_order\": 3, \"n_quantiles\": 30}, {\"params\": [{\"m\": 3, \"r\": 30}]}),\n",
    "    (f_ts.has_duplicate, tsfresh.has_duplicate, {}, {}),\n",
    "    (f_ts.has_duplicate_max, tsfresh.has_duplicate_max, {}, {}),\n",
    "    (f_ts.has_duplicate_min, tsfresh.has_duplicate_min, {}, {}),\n",
    "    (f_ts.index_mass_quantile, tsfresh.index_mass_quantile, {\"q\": 0.5}, {\"param\": [{\"q\": 0.5}]}),\n",
    "    (f_ts.large_standard_deviation, tsfresh.large_standard_deviation, {\"ratio\": 0.25}, {\"r\": 0.25}),\n",
    "    (f_ts.last_location_of_maximum, tsfresh.last_location_of_maximum, {}, {}),\n",
    "    (f_ts.last_location_of_minimum, tsfresh.last_location_of_minimum, {}, {}),\n",
    "    # (f_ts.lempel_ziv_complexity, tsfresh.lempel_ziv_complexity, {\"n_bins\": 5}, {\"bins\": 5}),\n",
    "    # (f_ts.linear_trend, tsfresh.linear_trend, {}, {\"params\": [{\"attr\": \"slope\"}, {\"attr\": \"intercept\"}]}),\n",
    "    (f_ts.longest_streak_above_mean, tsfresh.longest_strike_above_mean, {}, {}),\n",
    "    (f_ts.longest_streak_below_mean, tsfresh.longest_strike_below_mean, {}, {}),\n",
    "    (f_ts.mean_abs_change, tsfresh.mean_abs_change, {}, {}),\n",
    "    (f_ts.mean_change, tsfresh.mean_change, {}, {}),\n",
    "    (f_ts.mean_n_absolute_max, tsfresh.mean_n_absolute_max, {\"n_maxima\": 20}, {\"number_of_maxima\": 20}),\n",
    "    (f_ts.mean_second_derivative_central, tsfresh.mean_second_derivative_central, {}, {}),\n",
    "    (f_ts.number_crossings, tsfresh.number_crossing_m, {\"crossing_value\": 0.0}, {\"m\": 0.0}),\n",
    "    (f_ts.number_cwt_peaks, tsfresh.number_cwt_peaks, {\"max_width: 5\"}, {\"n\": 5}),\n",
    "    (f_ts.number_peaks, tsfresh.number_peaks, {\"support\": 5}, {\"n\": 5}),\n",
    "    # (f_ts.partial_autocorrelation, tsfresh.partial_autocorrelation, \"param\"),\n",
    "    (f_ts.percent_reoccuring_values, tsfresh.percentage_of_reoccurring_values_to_all_values, {}, {}),\n",
    "    (f_ts.percent_reocurring_points, tsfresh.percentage_of_reoccurring_datapoints_to_all_datapoints, {}, {}),\n",
    "    (f_ts.permutation_entropy, tsfresh.permutation_entropy, {\"tau\": 1,\"n_dims\": 3}, {\"tau\": 1,\"dimension\": 3}),\n",
    "    (f_ts.range_count, tsfresh.range_count, {\"lower\": 0, \"upper\": 9, \"closed\": 'none'}, {\"min\": 0, \"max\": 9}),\n",
    "    (f_ts.ratio_beyond_r_sigma, tsfresh.ratio_beyond_r_sigma, {\"ratio\": 2}, {\"r\": 2}),\n",
    "    (f_ts.ratio_n_unique_to_length, tsfresh.ratio_value_number_to_time_series_length, {}, {}),\n",
    "    (f_ts.root_mean_square, tsfresh.root_mean_square, {}, {}),\n",
    "    (f_ts.sample_entropy, tsfresh.sample_entropy, {}, {}),\n",
    "    (f_ts.spkt_welch_density, tsfresh.spkt_welch_density, {\"n_coeffs\": 10}, {\"param\": [{\"coeff\": i} for i in range(10)]}),\n",
    "    (f_ts.sum_reocurring_points, tsfresh.sum_of_reoccurring_data_points, {}, {}),\n",
    "    (f_ts.sum_reocurring_values, tsfresh.sum_of_reoccurring_values, {}, {}),\n",
    "    (f_ts.symmetry_looking, tsfresh.symmetry_looking, {\"ratio\": 0.25}, {\"param\": [{\"r\": 0.25}]}),\n",
    "    (f_ts.time_reversal_asymmetry_statistic, tsfresh.time_reversal_asymmetry_statistic, {\"n_lags\": 3}, {\"lag\": 3}),\n",
    "    (f_ts.variation_coefficient, tsfresh.variation_coefficient, {}, {}),\n",
    "    (f_ts.var_gt_std, tsfresh.variance_larger_than_standard_deviation, {}, {})\n",
    "]"
   ]
  },
  {
   "cell_type": "markdown",
   "metadata": {},
   "source": [
    "## Benchmark core function\n",
    "\n",
    "Benchmark function to compare the performance of functime's against tsfresh's' function. You need to provide the content the values contained in the list `_FUNC_PARAMS_BENCH`.  "
   ]
  },
  {
   "cell_type": "code",
   "execution_count": 5,
   "metadata": {},
   "outputs": [],
   "source": [
    "def benchmark(f_feat: Callable, ts_feat: Callable, f_params: dict, ts_params: dict, expr: bool):\n",
    "    upper_n = 8#24\n",
    "    if f_feat.__name__ in (\"binned_entropy\", \"approximate_entropy\", \"permutation_entropy\", \"sample_entropy\"):\n",
    "        upper_n = 8#16\n",
    "    benchmark = perfplot.bench(\n",
    "        setup = lambda n: (DF_PANDAS.head(n), DF_PL_EAGER.head(n)),\n",
    "        kernels = [\n",
    "            lambda x, _y: ts_feat(x[\"value\"], **ts_params),\n",
    "            lambda _x, y: f_feat(y[\"value\"], **f_params) if not expr else y.select(f_feat(pl.col(\"value\"), **f_params))\n",
    "        ],\n",
    "        n_range = [2**k for k in range(4, upper_n)],\n",
    "        equality_check=False,\n",
    "        labels=[\"tsfresh\", \"tsfresh\", \"functime\"]\n",
    "    )\n",
    "    return benchmark"
   ]
  },
  {
   "cell_type": "markdown",
   "metadata": {},
   "source": [
    "## Create the benchmark for all the functions\n",
    "\n",
    "Loop over `_FUNC_PARAMS_BENCH` and call `benchmark()` for each iteration."
   ]
  },
  {
   "cell_type": "code",
   "execution_count": 6,
   "metadata": {},
   "outputs": [],
   "source": [
    "def all_benchmarks(params: list[tuple], expr: bool)-> list:\n",
    "    bench_df = pl.DataFrame(\n",
    "        schema={\n",
    "            \"id\": pl.Utf8,\n",
    "            \"n\": pl.Int64,\n",
    "            \"tsfresh\": pl.Float64,\n",
    "            \"functime\": pl.Float64,\n",
    "            \"X_time\": pl.Float64\n",
    "        }\n",
    "    )\n",
    "    for x in params:\n",
    "        try:\n",
    "            print(\"Feature: {}\".format(x[0].__name__))\n",
    "            bench = benchmark(\n",
    "                f_feat = x[0],\n",
    "                ts_feat = x[1],\n",
    "                f_params = x[2],\n",
    "                ts_params = x[3],\n",
    "                expr = expr\n",
    "            )\n",
    "            bench_df = pl.concat([\n",
    "                pl.DataFrame({\n",
    "                    \"id\": [x[0].__name__]*len(bench.n_range),\n",
    "                    \"n\": bench.n_range,\n",
    "                    \"tsfresh\": bench.timings_s[0],\n",
    "                    \"functime\": bench.timings_s[1],\n",
    "                    \"X_time\": bench.timings_s[0] / bench.timings_s[1]                \n",
    "                }),\n",
    "                bench_df]\n",
    "            )\n",
    "        except:\n",
    "            print(\"Failure for feature: {}\".format(x[0].__name__))\n",
    "    return bench_df"
   ]
  },
  {
   "cell_type": "code",
   "execution_count": 7,
   "metadata": {},
   "outputs": [
    {
     "data": {
      "text/html": [
       "<pre style=\"white-space:pre;overflow-x:auto;line-height:normal;font-family:Menlo,'DejaVu Sans Mono',consolas,'Courier New',monospace\">/Users/mathieucayssol/Documents/functime/.venv/lib/python3.11/site-packages/rich/live.py:231: UserWarning: install \n",
       "\"ipywidgets\" for Jupyter support\n",
       "  warnings.warn('install \"ipywidgets\" for Jupyter support')\n",
       "</pre>\n"
      ],
      "text/plain": [
       "/Users/mathieucayssol/Documents/functime/.venv/lib/python3.11/site-packages/rich/live.py:231: UserWarning: install \n",
       "\"ipywidgets\" for Jupyter support\n",
       "  warnings.warn('install \"ipywidgets\" for Jupyter support')\n"
      ]
     },
     "metadata": {},
     "output_type": "display_data"
    },
    {
     "name": "stdout",
     "output_type": "stream",
     "text": [
      "Feature: absolute_energy\n"
     ]
    },
    {
     "data": {
      "text/html": [
       "<pre style=\"white-space:pre;overflow-x:auto;line-height:normal;font-family:Menlo,'DejaVu Sans Mono',consolas,'Courier New',monospace\"></pre>\n"
      ],
      "text/plain": []
     },
     "metadata": {},
     "output_type": "display_data"
    },
    {
     "data": {
      "text/html": [
       "<pre style=\"white-space:pre;overflow-x:auto;line-height:normal;font-family:Menlo,'DejaVu Sans Mono',consolas,'Courier New',monospace\">\n",
       "</pre>\n"
      ],
      "text/plain": [
       "\n"
      ]
     },
     "metadata": {},
     "output_type": "display_data"
    },
    {
     "name": "stdout",
     "output_type": "stream",
     "text": [
      "Feature: absolute_maximum\n"
     ]
    },
    {
     "data": {
      "text/html": [
       "<pre style=\"white-space:pre;overflow-x:auto;line-height:normal;font-family:Menlo,'DejaVu Sans Mono',consolas,'Courier New',monospace\"></pre>\n"
      ],
      "text/plain": []
     },
     "metadata": {},
     "output_type": "display_data"
    },
    {
     "data": {
      "text/html": [
       "<pre style=\"white-space:pre;overflow-x:auto;line-height:normal;font-family:Menlo,'DejaVu Sans Mono',consolas,'Courier New',monospace\">\n",
       "</pre>\n"
      ],
      "text/plain": [
       "\n"
      ]
     },
     "metadata": {},
     "output_type": "display_data"
    },
    {
     "name": "stdout",
     "output_type": "stream",
     "text": [
      "Feature: absolute_sum_of_changes\n"
     ]
    },
    {
     "data": {
      "text/html": [
       "<pre style=\"white-space:pre;overflow-x:auto;line-height:normal;font-family:Menlo,'DejaVu Sans Mono',consolas,'Courier New',monospace\"></pre>\n"
      ],
      "text/plain": []
     },
     "metadata": {},
     "output_type": "display_data"
    },
    {
     "data": {
      "text/html": [
       "<pre style=\"white-space:pre;overflow-x:auto;line-height:normal;font-family:Menlo,'DejaVu Sans Mono',consolas,'Courier New',monospace\">\n",
       "</pre>\n"
      ],
      "text/plain": [
       "\n"
      ]
     },
     "metadata": {},
     "output_type": "display_data"
    },
    {
     "name": "stdout",
     "output_type": "stream",
     "text": [
      "Feature: approximate_entropy\n"
     ]
    },
    {
     "data": {
      "text/html": [
       "<pre style=\"white-space:pre;overflow-x:auto;line-height:normal;font-family:Menlo,'DejaVu Sans Mono',consolas,'Courier New',monospace\"></pre>\n"
      ],
      "text/plain": []
     },
     "metadata": {},
     "output_type": "display_data"
    },
    {
     "data": {
      "text/html": [
       "<pre style=\"white-space:pre;overflow-x:auto;line-height:normal;font-family:Menlo,'DejaVu Sans Mono',consolas,'Courier New',monospace\">\n",
       "</pre>\n"
      ],
      "text/plain": [
       "\n"
      ]
     },
     "metadata": {},
     "output_type": "display_data"
    },
    {
     "name": "stdout",
     "output_type": "stream",
     "text": [
      "Failure for feature: approximate_entropy\n",
      "Feature: autocorrelation\n"
     ]
    },
    {
     "data": {
      "text/html": [
       "<pre style=\"white-space:pre;overflow-x:auto;line-height:normal;font-family:Menlo,'DejaVu Sans Mono',consolas,'Courier New',monospace\"></pre>\n"
      ],
      "text/plain": []
     },
     "metadata": {},
     "output_type": "display_data"
    },
    {
     "data": {
      "text/html": [
       "<pre style=\"white-space:pre;overflow-x:auto;line-height:normal;font-family:Menlo,'DejaVu Sans Mono',consolas,'Courier New',monospace\">\n",
       "</pre>\n"
      ],
      "text/plain": [
       "\n"
      ]
     },
     "metadata": {},
     "output_type": "display_data"
    },
    {
     "data": {
      "text/html": [
       "<pre style=\"white-space:pre;overflow-x:auto;line-height:normal;font-family:Menlo,'DejaVu Sans Mono',consolas,'Courier New',monospace\">/Users/mathieucayssol/Documents/functime/.venv/lib/python3.11/site-packages/rich/live.py:231: UserWarning: install \n",
       "\"ipywidgets\" for Jupyter support\n",
       "  warnings.warn('install \"ipywidgets\" for Jupyter support')\n",
       "</pre>\n"
      ],
      "text/plain": [
       "/Users/mathieucayssol/Documents/functime/.venv/lib/python3.11/site-packages/rich/live.py:231: UserWarning: install \n",
       "\"ipywidgets\" for Jupyter support\n",
       "  warnings.warn('install \"ipywidgets\" for Jupyter support')\n"
      ]
     },
     "metadata": {},
     "output_type": "display_data"
    },
    {
     "name": "stdout",
     "output_type": "stream",
     "text": [
      "Feature: autoregressive_coefficients\n"
     ]
    },
    {
     "data": {
      "text/html": [
       "<pre style=\"white-space:pre;overflow-x:auto;line-height:normal;font-family:Menlo,'DejaVu Sans Mono',consolas,'Courier New',monospace\">/Users/mathieucayssol/Documents/functime/.venv/lib/python3.11/site-packages/rich/live.py:231: UserWarning: install \n",
       "\"ipywidgets\" for Jupyter support\n",
       "  warnings.warn('install \"ipywidgets\" for Jupyter support')\n",
       "</pre>\n"
      ],
      "text/plain": [
       "/Users/mathieucayssol/Documents/functime/.venv/lib/python3.11/site-packages/rich/live.py:231: UserWarning: install \n",
       "\"ipywidgets\" for Jupyter support\n",
       "  warnings.warn('install \"ipywidgets\" for Jupyter support')\n"
      ]
     },
     "metadata": {},
     "output_type": "display_data"
    },
    {
     "data": {
      "text/html": [
       "<pre style=\"white-space:pre;overflow-x:auto;line-height:normal;font-family:Menlo,'DejaVu Sans Mono',consolas,'Courier New',monospace\">/Users/mathieucayssol/Documents/functime/.venv/lib/python3.11/site-packages/rich/live.py:231: UserWarning: install \n",
       "\"ipywidgets\" for Jupyter support\n",
       "  warnings.warn('install \"ipywidgets\" for Jupyter support')\n",
       "</pre>\n"
      ],
      "text/plain": [
       "/Users/mathieucayssol/Documents/functime/.venv/lib/python3.11/site-packages/rich/live.py:231: UserWarning: install \n",
       "\"ipywidgets\" for Jupyter support\n",
       "  warnings.warn('install \"ipywidgets\" for Jupyter support')\n"
      ]
     },
     "metadata": {},
     "output_type": "display_data"
    },
    {
     "data": {
      "text/html": [
       "<pre style=\"white-space:pre;overflow-x:auto;line-height:normal;font-family:Menlo,'DejaVu Sans Mono',consolas,'Courier New',monospace\">/Users/mathieucayssol/Documents/functime/.venv/lib/python3.11/site-packages/rich/live.py:231: UserWarning: install \n",
       "\"ipywidgets\" for Jupyter support\n",
       "  warnings.warn('install \"ipywidgets\" for Jupyter support')\n",
       "</pre>\n"
      ],
      "text/plain": [
       "/Users/mathieucayssol/Documents/functime/.venv/lib/python3.11/site-packages/rich/live.py:231: UserWarning: install \n",
       "\"ipywidgets\" for Jupyter support\n",
       "  warnings.warn('install \"ipywidgets\" for Jupyter support')\n"
      ]
     },
     "metadata": {},
     "output_type": "display_data"
    },
    {
     "data": {
      "text/html": [
       "<pre style=\"white-space:pre;overflow-x:auto;line-height:normal;font-family:Menlo,'DejaVu Sans Mono',consolas,'Courier New',monospace\">/Users/mathieucayssol/Documents/functime/.venv/lib/python3.11/site-packages/rich/live.py:231: UserWarning: install \n",
       "\"ipywidgets\" for Jupyter support\n",
       "  warnings.warn('install \"ipywidgets\" for Jupyter support')\n",
       "</pre>\n"
      ],
      "text/plain": [
       "/Users/mathieucayssol/Documents/functime/.venv/lib/python3.11/site-packages/rich/live.py:231: UserWarning: install \n",
       "\"ipywidgets\" for Jupyter support\n",
       "  warnings.warn('install \"ipywidgets\" for Jupyter support')\n"
      ]
     },
     "metadata": {},
     "output_type": "display_data"
    },
    {
     "data": {
      "text/html": [
       "<pre style=\"white-space:pre;overflow-x:auto;line-height:normal;font-family:Menlo,'DejaVu Sans Mono',consolas,'Courier New',monospace\">/Users/mathieucayssol/Documents/functime/.venv/lib/python3.11/site-packages/rich/live.py:231: UserWarning: install \n",
       "\"ipywidgets\" for Jupyter support\n",
       "  warnings.warn('install \"ipywidgets\" for Jupyter support')\n",
       "</pre>\n"
      ],
      "text/plain": [
       "/Users/mathieucayssol/Documents/functime/.venv/lib/python3.11/site-packages/rich/live.py:231: UserWarning: install \n",
       "\"ipywidgets\" for Jupyter support\n",
       "  warnings.warn('install \"ipywidgets\" for Jupyter support')\n"
      ]
     },
     "metadata": {},
     "output_type": "display_data"
    },
    {
     "data": {
      "text/html": [
       "<pre style=\"white-space:pre;overflow-x:auto;line-height:normal;font-family:Menlo,'DejaVu Sans Mono',consolas,'Courier New',monospace\">/Users/mathieucayssol/Documents/functime/.venv/lib/python3.11/site-packages/rich/live.py:231: UserWarning: install \n",
       "\"ipywidgets\" for Jupyter support\n",
       "  warnings.warn('install \"ipywidgets\" for Jupyter support')\n",
       "</pre>\n"
      ],
      "text/plain": [
       "/Users/mathieucayssol/Documents/functime/.venv/lib/python3.11/site-packages/rich/live.py:231: UserWarning: install \n",
       "\"ipywidgets\" for Jupyter support\n",
       "  warnings.warn('install \"ipywidgets\" for Jupyter support')\n"
      ]
     },
     "metadata": {},
     "output_type": "display_data"
    },
    {
     "data": {
      "text/html": [
       "<pre style=\"white-space:pre;overflow-x:auto;line-height:normal;font-family:Menlo,'DejaVu Sans Mono',consolas,'Courier New',monospace\"></pre>\n"
      ],
      "text/plain": []
     },
     "metadata": {},
     "output_type": "display_data"
    },
    {
     "data": {
      "text/html": [
       "<pre style=\"white-space:pre;overflow-x:auto;line-height:normal;font-family:Menlo,'DejaVu Sans Mono',consolas,'Courier New',monospace\">\n",
       "</pre>\n"
      ],
      "text/plain": [
       "\n"
      ]
     },
     "metadata": {},
     "output_type": "display_data"
    },
    {
     "data": {
      "text/html": [
       "<pre style=\"white-space:pre;overflow-x:auto;line-height:normal;font-family:Menlo,'DejaVu Sans Mono',consolas,'Courier New',monospace\">/Users/mathieucayssol/Documents/functime/.venv/lib/python3.11/site-packages/rich/live.py:231: UserWarning: install \n",
       "\"ipywidgets\" for Jupyter support\n",
       "  warnings.warn('install \"ipywidgets\" for Jupyter support')\n",
       "</pre>\n"
      ],
      "text/plain": [
       "/Users/mathieucayssol/Documents/functime/.venv/lib/python3.11/site-packages/rich/live.py:231: UserWarning: install \n",
       "\"ipywidgets\" for Jupyter support\n",
       "  warnings.warn('install \"ipywidgets\" for Jupyter support')\n"
      ]
     },
     "metadata": {},
     "output_type": "display_data"
    },
    {
     "name": "stdout",
     "output_type": "stream",
     "text": [
      "Failure for feature: autoregressive_coefficients\n",
      "Feature: benford_correlation2\n"
     ]
    },
    {
     "data": {
      "text/html": [
       "<pre style=\"white-space:pre;overflow-x:auto;line-height:normal;font-family:Menlo,'DejaVu Sans Mono',consolas,'Courier New',monospace\"></pre>\n"
      ],
      "text/plain": []
     },
     "metadata": {},
     "output_type": "display_data"
    },
    {
     "data": {
      "text/html": [
       "<pre style=\"white-space:pre;overflow-x:auto;line-height:normal;font-family:Menlo,'DejaVu Sans Mono',consolas,'Courier New',monospace\">\n",
       "</pre>\n"
      ],
      "text/plain": [
       "\n"
      ]
     },
     "metadata": {},
     "output_type": "display_data"
    },
    {
     "name": "stdout",
     "output_type": "stream",
     "text": [
      "Feature: benford_correlation\n"
     ]
    },
    {
     "data": {
      "text/html": [
       "<pre style=\"white-space:pre;overflow-x:auto;line-height:normal;font-family:Menlo,'DejaVu Sans Mono',consolas,'Courier New',monospace\"></pre>\n"
      ],
      "text/plain": []
     },
     "metadata": {},
     "output_type": "display_data"
    },
    {
     "data": {
      "text/html": [
       "<pre style=\"white-space:pre;overflow-x:auto;line-height:normal;font-family:Menlo,'DejaVu Sans Mono',consolas,'Courier New',monospace\">\n",
       "</pre>\n"
      ],
      "text/plain": [
       "\n"
      ]
     },
     "metadata": {},
     "output_type": "display_data"
    },
    {
     "name": "stdout",
     "output_type": "stream",
     "text": [
      "Feature: binned_entropy\n"
     ]
    },
    {
     "data": {
      "text/html": [
       "<pre style=\"white-space:pre;overflow-x:auto;line-height:normal;font-family:Menlo,'DejaVu Sans Mono',consolas,'Courier New',monospace\"></pre>\n"
      ],
      "text/plain": []
     },
     "metadata": {},
     "output_type": "display_data"
    },
    {
     "data": {
      "text/html": [
       "<pre style=\"white-space:pre;overflow-x:auto;line-height:normal;font-family:Menlo,'DejaVu Sans Mono',consolas,'Courier New',monospace\">\n",
       "</pre>\n"
      ],
      "text/plain": [
       "\n"
      ]
     },
     "metadata": {},
     "output_type": "display_data"
    },
    {
     "name": "stdout",
     "output_type": "stream",
     "text": [
      "Feature: c3\n"
     ]
    },
    {
     "data": {
      "text/html": [
       "<pre style=\"white-space:pre;overflow-x:auto;line-height:normal;font-family:Menlo,'DejaVu Sans Mono',consolas,'Courier New',monospace\"></pre>\n"
      ],
      "text/plain": []
     },
     "metadata": {},
     "output_type": "display_data"
    },
    {
     "data": {
      "text/html": [
       "<pre style=\"white-space:pre;overflow-x:auto;line-height:normal;font-family:Menlo,'DejaVu Sans Mono',consolas,'Courier New',monospace\">\n",
       "</pre>\n"
      ],
      "text/plain": [
       "\n"
      ]
     },
     "metadata": {},
     "output_type": "display_data"
    },
    {
     "name": "stdout",
     "output_type": "stream",
     "text": [
      "Feature: change_quantiles\n"
     ]
    },
    {
     "data": {
      "text/html": [
       "<pre style=\"white-space:pre;overflow-x:auto;line-height:normal;font-family:Menlo,'DejaVu Sans Mono',consolas,'Courier New',monospace\"></pre>\n"
      ],
      "text/plain": []
     },
     "metadata": {},
     "output_type": "display_data"
    },
    {
     "data": {
      "text/html": [
       "<pre style=\"white-space:pre;overflow-x:auto;line-height:normal;font-family:Menlo,'DejaVu Sans Mono',consolas,'Courier New',monospace\">\n",
       "</pre>\n"
      ],
      "text/plain": [
       "\n"
      ]
     },
     "metadata": {},
     "output_type": "display_data"
    },
    {
     "name": "stdout",
     "output_type": "stream",
     "text": [
      "Feature: cid_ce\n"
     ]
    },
    {
     "data": {
      "text/html": [
       "<pre style=\"white-space:pre;overflow-x:auto;line-height:normal;font-family:Menlo,'DejaVu Sans Mono',consolas,'Courier New',monospace\"></pre>\n"
      ],
      "text/plain": []
     },
     "metadata": {},
     "output_type": "display_data"
    },
    {
     "data": {
      "text/html": [
       "<pre style=\"white-space:pre;overflow-x:auto;line-height:normal;font-family:Menlo,'DejaVu Sans Mono',consolas,'Courier New',monospace\">\n",
       "</pre>\n"
      ],
      "text/plain": [
       "\n"
      ]
     },
     "metadata": {},
     "output_type": "display_data"
    },
    {
     "name": "stdout",
     "output_type": "stream",
     "text": [
      "Feature: count_above\n"
     ]
    },
    {
     "data": {
      "text/html": [
       "<pre style=\"white-space:pre;overflow-x:auto;line-height:normal;font-family:Menlo,'DejaVu Sans Mono',consolas,'Courier New',monospace\"></pre>\n"
      ],
      "text/plain": []
     },
     "metadata": {},
     "output_type": "display_data"
    },
    {
     "data": {
      "text/html": [
       "<pre style=\"white-space:pre;overflow-x:auto;line-height:normal;font-family:Menlo,'DejaVu Sans Mono',consolas,'Courier New',monospace\">\n",
       "</pre>\n"
      ],
      "text/plain": [
       "\n"
      ]
     },
     "metadata": {},
     "output_type": "display_data"
    },
    {
     "name": "stdout",
     "output_type": "stream",
     "text": [
      "Feature: count_above_mean\n"
     ]
    },
    {
     "data": {
      "text/html": [
       "<pre style=\"white-space:pre;overflow-x:auto;line-height:normal;font-family:Menlo,'DejaVu Sans Mono',consolas,'Courier New',monospace\"></pre>\n"
      ],
      "text/plain": []
     },
     "metadata": {},
     "output_type": "display_data"
    },
    {
     "data": {
      "text/html": [
       "<pre style=\"white-space:pre;overflow-x:auto;line-height:normal;font-family:Menlo,'DejaVu Sans Mono',consolas,'Courier New',monospace\">\n",
       "</pre>\n"
      ],
      "text/plain": [
       "\n"
      ]
     },
     "metadata": {},
     "output_type": "display_data"
    },
    {
     "name": "stdout",
     "output_type": "stream",
     "text": [
      "Feature: count_below\n"
     ]
    },
    {
     "data": {
      "text/html": [
       "<pre style=\"white-space:pre;overflow-x:auto;line-height:normal;font-family:Menlo,'DejaVu Sans Mono',consolas,'Courier New',monospace\"></pre>\n"
      ],
      "text/plain": []
     },
     "metadata": {},
     "output_type": "display_data"
    },
    {
     "data": {
      "text/html": [
       "<pre style=\"white-space:pre;overflow-x:auto;line-height:normal;font-family:Menlo,'DejaVu Sans Mono',consolas,'Courier New',monospace\">\n",
       "</pre>\n"
      ],
      "text/plain": [
       "\n"
      ]
     },
     "metadata": {},
     "output_type": "display_data"
    },
    {
     "name": "stdout",
     "output_type": "stream",
     "text": [
      "Feature: count_below_mean\n"
     ]
    },
    {
     "data": {
      "text/html": [
       "<pre style=\"white-space:pre;overflow-x:auto;line-height:normal;font-family:Menlo,'DejaVu Sans Mono',consolas,'Courier New',monospace\"></pre>\n"
      ],
      "text/plain": []
     },
     "metadata": {},
     "output_type": "display_data"
    },
    {
     "data": {
      "text/html": [
       "<pre style=\"white-space:pre;overflow-x:auto;line-height:normal;font-family:Menlo,'DejaVu Sans Mono',consolas,'Courier New',monospace\">\n",
       "</pre>\n"
      ],
      "text/plain": [
       "\n"
      ]
     },
     "metadata": {},
     "output_type": "display_data"
    },
    {
     "data": {
      "text/html": [
       "<pre style=\"white-space:pre;overflow-x:auto;line-height:normal;font-family:Menlo,'DejaVu Sans Mono',consolas,'Courier New',monospace\">/Users/mathieucayssol/Documents/functime/.venv/lib/python3.11/site-packages/numpy/core/fromnumeric.py:59: \n",
       "FutureWarning: 'Series.swapaxes' is deprecated and will be removed in a future version. Please use \n",
       "'Series.transpose' instead.\n",
       "  return bound(*args, **kwds)\n",
       "</pre>\n"
      ],
      "text/plain": [
       "/Users/mathieucayssol/Documents/functime/.venv/lib/python3.11/site-packages/numpy/core/fromnumeric.py:59: \n",
       "FutureWarning: 'Series.swapaxes' is deprecated and will be removed in a future version. Please use \n",
       "'Series.transpose' instead.\n",
       "  return bound(*args, **kwds)\n"
      ]
     },
     "metadata": {},
     "output_type": "display_data"
    },
    {
     "name": "stdout",
     "output_type": "stream",
     "text": [
      "Feature: energy_ratios\n"
     ]
    },
    {
     "data": {
      "text/html": [
       "<pre style=\"white-space:pre;overflow-x:auto;line-height:normal;font-family:Menlo,'DejaVu Sans Mono',consolas,'Courier New',monospace\"></pre>\n"
      ],
      "text/plain": []
     },
     "metadata": {},
     "output_type": "display_data"
    },
    {
     "data": {
      "text/html": [
       "<pre style=\"white-space:pre;overflow-x:auto;line-height:normal;font-family:Menlo,'DejaVu Sans Mono',consolas,'Courier New',monospace\">\n",
       "</pre>\n"
      ],
      "text/plain": [
       "\n"
      ]
     },
     "metadata": {},
     "output_type": "display_data"
    },
    {
     "name": "stdout",
     "output_type": "stream",
     "text": [
      "Feature: first_location_of_maximum\n"
     ]
    },
    {
     "data": {
      "text/html": [
       "<pre style=\"white-space:pre;overflow-x:auto;line-height:normal;font-family:Menlo,'DejaVu Sans Mono',consolas,'Courier New',monospace\"></pre>\n"
      ],
      "text/plain": []
     },
     "metadata": {},
     "output_type": "display_data"
    },
    {
     "data": {
      "text/html": [
       "<pre style=\"white-space:pre;overflow-x:auto;line-height:normal;font-family:Menlo,'DejaVu Sans Mono',consolas,'Courier New',monospace\">\n",
       "</pre>\n"
      ],
      "text/plain": [
       "\n"
      ]
     },
     "metadata": {},
     "output_type": "display_data"
    },
    {
     "name": "stdout",
     "output_type": "stream",
     "text": [
      "Feature: first_location_of_minimum\n"
     ]
    },
    {
     "data": {
      "text/html": [
       "<pre style=\"white-space:pre;overflow-x:auto;line-height:normal;font-family:Menlo,'DejaVu Sans Mono',consolas,'Courier New',monospace\"></pre>\n"
      ],
      "text/plain": []
     },
     "metadata": {},
     "output_type": "display_data"
    },
    {
     "data": {
      "text/html": [
       "<pre style=\"white-space:pre;overflow-x:auto;line-height:normal;font-family:Menlo,'DejaVu Sans Mono',consolas,'Courier New',monospace\">\n",
       "</pre>\n"
      ],
      "text/plain": [
       "\n"
      ]
     },
     "metadata": {},
     "output_type": "display_data"
    },
    {
     "name": "stdout",
     "output_type": "stream",
     "text": [
      "Feature: has_duplicate\n"
     ]
    },
    {
     "data": {
      "text/html": [
       "<pre style=\"white-space:pre;overflow-x:auto;line-height:normal;font-family:Menlo,'DejaVu Sans Mono',consolas,'Courier New',monospace\"></pre>\n"
      ],
      "text/plain": []
     },
     "metadata": {},
     "output_type": "display_data"
    },
    {
     "data": {
      "text/html": [
       "<pre style=\"white-space:pre;overflow-x:auto;line-height:normal;font-family:Menlo,'DejaVu Sans Mono',consolas,'Courier New',monospace\">\n",
       "</pre>\n"
      ],
      "text/plain": [
       "\n"
      ]
     },
     "metadata": {},
     "output_type": "display_data"
    },
    {
     "name": "stdout",
     "output_type": "stream",
     "text": [
      "Feature: has_duplicate_max\n"
     ]
    },
    {
     "data": {
      "text/html": [
       "<pre style=\"white-space:pre;overflow-x:auto;line-height:normal;font-family:Menlo,'DejaVu Sans Mono',consolas,'Courier New',monospace\"></pre>\n"
      ],
      "text/plain": []
     },
     "metadata": {},
     "output_type": "display_data"
    },
    {
     "data": {
      "text/html": [
       "<pre style=\"white-space:pre;overflow-x:auto;line-height:normal;font-family:Menlo,'DejaVu Sans Mono',consolas,'Courier New',monospace\">\n",
       "</pre>\n"
      ],
      "text/plain": [
       "\n"
      ]
     },
     "metadata": {},
     "output_type": "display_data"
    },
    {
     "name": "stdout",
     "output_type": "stream",
     "text": [
      "Feature: has_duplicate_min\n"
     ]
    },
    {
     "data": {
      "text/html": [
       "<pre style=\"white-space:pre;overflow-x:auto;line-height:normal;font-family:Menlo,'DejaVu Sans Mono',consolas,'Courier New',monospace\"></pre>\n"
      ],
      "text/plain": []
     },
     "metadata": {},
     "output_type": "display_data"
    },
    {
     "data": {
      "text/html": [
       "<pre style=\"white-space:pre;overflow-x:auto;line-height:normal;font-family:Menlo,'DejaVu Sans Mono',consolas,'Courier New',monospace\">\n",
       "</pre>\n"
      ],
      "text/plain": [
       "\n"
      ]
     },
     "metadata": {},
     "output_type": "display_data"
    },
    {
     "name": "stdout",
     "output_type": "stream",
     "text": [
      "Feature: index_mass_quantile\n"
     ]
    },
    {
     "data": {
      "text/html": [
       "<pre style=\"white-space:pre;overflow-x:auto;line-height:normal;font-family:Menlo,'DejaVu Sans Mono',consolas,'Courier New',monospace\"></pre>\n"
      ],
      "text/plain": []
     },
     "metadata": {},
     "output_type": "display_data"
    },
    {
     "data": {
      "text/html": [
       "<pre style=\"white-space:pre;overflow-x:auto;line-height:normal;font-family:Menlo,'DejaVu Sans Mono',consolas,'Courier New',monospace\">\n",
       "</pre>\n"
      ],
      "text/plain": [
       "\n"
      ]
     },
     "metadata": {},
     "output_type": "display_data"
    },
    {
     "name": "stdout",
     "output_type": "stream",
     "text": [
      "Feature: large_standard_deviation\n"
     ]
    },
    {
     "data": {
      "text/html": [
       "<pre style=\"white-space:pre;overflow-x:auto;line-height:normal;font-family:Menlo,'DejaVu Sans Mono',consolas,'Courier New',monospace\"></pre>\n"
      ],
      "text/plain": []
     },
     "metadata": {},
     "output_type": "display_data"
    },
    {
     "data": {
      "text/html": [
       "<pre style=\"white-space:pre;overflow-x:auto;line-height:normal;font-family:Menlo,'DejaVu Sans Mono',consolas,'Courier New',monospace\">\n",
       "</pre>\n"
      ],
      "text/plain": [
       "\n"
      ]
     },
     "metadata": {},
     "output_type": "display_data"
    },
    {
     "name": "stdout",
     "output_type": "stream",
     "text": [
      "Feature: last_location_of_maximum\n"
     ]
    },
    {
     "data": {
      "text/html": [
       "<pre style=\"white-space:pre;overflow-x:auto;line-height:normal;font-family:Menlo,'DejaVu Sans Mono',consolas,'Courier New',monospace\"></pre>\n"
      ],
      "text/plain": []
     },
     "metadata": {},
     "output_type": "display_data"
    },
    {
     "data": {
      "text/html": [
       "<pre style=\"white-space:pre;overflow-x:auto;line-height:normal;font-family:Menlo,'DejaVu Sans Mono',consolas,'Courier New',monospace\">\n",
       "</pre>\n"
      ],
      "text/plain": [
       "\n"
      ]
     },
     "metadata": {},
     "output_type": "display_data"
    },
    {
     "name": "stdout",
     "output_type": "stream",
     "text": [
      "Feature: last_location_of_minimum\n"
     ]
    },
    {
     "data": {
      "text/html": [
       "<pre style=\"white-space:pre;overflow-x:auto;line-height:normal;font-family:Menlo,'DejaVu Sans Mono',consolas,'Courier New',monospace\"></pre>\n"
      ],
      "text/plain": []
     },
     "metadata": {},
     "output_type": "display_data"
    },
    {
     "data": {
      "text/html": [
       "<pre style=\"white-space:pre;overflow-x:auto;line-height:normal;font-family:Menlo,'DejaVu Sans Mono',consolas,'Courier New',monospace\">\n",
       "</pre>\n"
      ],
      "text/plain": [
       "\n"
      ]
     },
     "metadata": {},
     "output_type": "display_data"
    },
    {
     "name": "stdout",
     "output_type": "stream",
     "text": [
      "Feature: longest_streak_above_mean\n"
     ]
    },
    {
     "data": {
      "text/html": [
       "<pre style=\"white-space:pre;overflow-x:auto;line-height:normal;font-family:Menlo,'DejaVu Sans Mono',consolas,'Courier New',monospace\"></pre>\n"
      ],
      "text/plain": []
     },
     "metadata": {},
     "output_type": "display_data"
    },
    {
     "data": {
      "text/html": [
       "<pre style=\"white-space:pre;overflow-x:auto;line-height:normal;font-family:Menlo,'DejaVu Sans Mono',consolas,'Courier New',monospace\">\n",
       "</pre>\n"
      ],
      "text/plain": [
       "\n"
      ]
     },
     "metadata": {},
     "output_type": "display_data"
    },
    {
     "name": "stdout",
     "output_type": "stream",
     "text": [
      "Feature: longest_streak_below_mean\n"
     ]
    },
    {
     "data": {
      "text/html": [
       "<pre style=\"white-space:pre;overflow-x:auto;line-height:normal;font-family:Menlo,'DejaVu Sans Mono',consolas,'Courier New',monospace\"></pre>\n"
      ],
      "text/plain": []
     },
     "metadata": {},
     "output_type": "display_data"
    },
    {
     "data": {
      "text/html": [
       "<pre style=\"white-space:pre;overflow-x:auto;line-height:normal;font-family:Menlo,'DejaVu Sans Mono',consolas,'Courier New',monospace\">\n",
       "</pre>\n"
      ],
      "text/plain": [
       "\n"
      ]
     },
     "metadata": {},
     "output_type": "display_data"
    },
    {
     "name": "stdout",
     "output_type": "stream",
     "text": [
      "Feature: mean_abs_change\n"
     ]
    },
    {
     "data": {
      "text/html": [
       "<pre style=\"white-space:pre;overflow-x:auto;line-height:normal;font-family:Menlo,'DejaVu Sans Mono',consolas,'Courier New',monospace\"></pre>\n"
      ],
      "text/plain": []
     },
     "metadata": {},
     "output_type": "display_data"
    },
    {
     "data": {
      "text/html": [
       "<pre style=\"white-space:pre;overflow-x:auto;line-height:normal;font-family:Menlo,'DejaVu Sans Mono',consolas,'Courier New',monospace\">\n",
       "</pre>\n"
      ],
      "text/plain": [
       "\n"
      ]
     },
     "metadata": {},
     "output_type": "display_data"
    },
    {
     "name": "stdout",
     "output_type": "stream",
     "text": [
      "Feature: mean_change\n"
     ]
    },
    {
     "data": {
      "text/html": [
       "<pre style=\"white-space:pre;overflow-x:auto;line-height:normal;font-family:Menlo,'DejaVu Sans Mono',consolas,'Courier New',monospace\"></pre>\n"
      ],
      "text/plain": []
     },
     "metadata": {},
     "output_type": "display_data"
    },
    {
     "data": {
      "text/html": [
       "<pre style=\"white-space:pre;overflow-x:auto;line-height:normal;font-family:Menlo,'DejaVu Sans Mono',consolas,'Courier New',monospace\">\n",
       "</pre>\n"
      ],
      "text/plain": [
       "\n"
      ]
     },
     "metadata": {},
     "output_type": "display_data"
    },
    {
     "name": "stdout",
     "output_type": "stream",
     "text": [
      "Feature: mean_n_absolute_max\n"
     ]
    },
    {
     "data": {
      "text/html": [
       "<pre style=\"white-space:pre;overflow-x:auto;line-height:normal;font-family:Menlo,'DejaVu Sans Mono',consolas,'Courier New',monospace\"></pre>\n"
      ],
      "text/plain": []
     },
     "metadata": {},
     "output_type": "display_data"
    },
    {
     "data": {
      "text/html": [
       "<pre style=\"white-space:pre;overflow-x:auto;line-height:normal;font-family:Menlo,'DejaVu Sans Mono',consolas,'Courier New',monospace\">\n",
       "</pre>\n"
      ],
      "text/plain": [
       "\n"
      ]
     },
     "metadata": {},
     "output_type": "display_data"
    },
    {
     "name": "stdout",
     "output_type": "stream",
     "text": [
      "Feature: mean_second_derivative_central\n"
     ]
    },
    {
     "data": {
      "text/html": [
       "<pre style=\"white-space:pre;overflow-x:auto;line-height:normal;font-family:Menlo,'DejaVu Sans Mono',consolas,'Courier New',monospace\"></pre>\n"
      ],
      "text/plain": []
     },
     "metadata": {},
     "output_type": "display_data"
    },
    {
     "data": {
      "text/html": [
       "<pre style=\"white-space:pre;overflow-x:auto;line-height:normal;font-family:Menlo,'DejaVu Sans Mono',consolas,'Courier New',monospace\">\n",
       "</pre>\n"
      ],
      "text/plain": [
       "\n"
      ]
     },
     "metadata": {},
     "output_type": "display_data"
    },
    {
     "name": "stdout",
     "output_type": "stream",
     "text": [
      "Feature: number_crossings\n"
     ]
    },
    {
     "data": {
      "text/html": [
       "<pre style=\"white-space:pre;overflow-x:auto;line-height:normal;font-family:Menlo,'DejaVu Sans Mono',consolas,'Courier New',monospace\"></pre>\n"
      ],
      "text/plain": []
     },
     "metadata": {},
     "output_type": "display_data"
    },
    {
     "data": {
      "text/html": [
       "<pre style=\"white-space:pre;overflow-x:auto;line-height:normal;font-family:Menlo,'DejaVu Sans Mono',consolas,'Courier New',monospace\">\n",
       "</pre>\n"
      ],
      "text/plain": [
       "\n"
      ]
     },
     "metadata": {},
     "output_type": "display_data"
    },
    {
     "name": "stdout",
     "output_type": "stream",
     "text": [
      "Feature: number_cwt_peaks\n"
     ]
    },
    {
     "data": {
      "text/html": [
       "<pre style=\"white-space:pre;overflow-x:auto;line-height:normal;font-family:Menlo,'DejaVu Sans Mono',consolas,'Courier New',monospace\"></pre>\n"
      ],
      "text/plain": []
     },
     "metadata": {},
     "output_type": "display_data"
    },
    {
     "data": {
      "text/html": [
       "<pre style=\"white-space:pre;overflow-x:auto;line-height:normal;font-family:Menlo,'DejaVu Sans Mono',consolas,'Courier New',monospace\">\n",
       "</pre>\n"
      ],
      "text/plain": [
       "\n"
      ]
     },
     "metadata": {},
     "output_type": "display_data"
    },
    {
     "name": "stdout",
     "output_type": "stream",
     "text": [
      "Failure for feature: number_cwt_peaks\n",
      "Feature: number_peaks\n"
     ]
    },
    {
     "data": {
      "text/html": [
       "<pre style=\"white-space:pre;overflow-x:auto;line-height:normal;font-family:Menlo,'DejaVu Sans Mono',consolas,'Courier New',monospace\"></pre>\n"
      ],
      "text/plain": []
     },
     "metadata": {},
     "output_type": "display_data"
    },
    {
     "data": {
      "text/html": [
       "<pre style=\"white-space:pre;overflow-x:auto;line-height:normal;font-family:Menlo,'DejaVu Sans Mono',consolas,'Courier New',monospace\">\n",
       "</pre>\n"
      ],
      "text/plain": [
       "\n"
      ]
     },
     "metadata": {},
     "output_type": "display_data"
    },
    {
     "name": "stdout",
     "output_type": "stream",
     "text": [
      "Feature: percent_reoccuring_values\n"
     ]
    },
    {
     "data": {
      "text/html": [
       "<pre style=\"white-space:pre;overflow-x:auto;line-height:normal;font-family:Menlo,'DejaVu Sans Mono',consolas,'Courier New',monospace\"></pre>\n"
      ],
      "text/plain": []
     },
     "metadata": {},
     "output_type": "display_data"
    },
    {
     "data": {
      "text/html": [
       "<pre style=\"white-space:pre;overflow-x:auto;line-height:normal;font-family:Menlo,'DejaVu Sans Mono',consolas,'Courier New',monospace\">\n",
       "</pre>\n"
      ],
      "text/plain": [
       "\n"
      ]
     },
     "metadata": {},
     "output_type": "display_data"
    },
    {
     "name": "stdout",
     "output_type": "stream",
     "text": [
      "Feature: percent_reocurring_points\n"
     ]
    },
    {
     "data": {
      "text/html": [
       "<pre style=\"white-space:pre;overflow-x:auto;line-height:normal;font-family:Menlo,'DejaVu Sans Mono',consolas,'Courier New',monospace\"></pre>\n"
      ],
      "text/plain": []
     },
     "metadata": {},
     "output_type": "display_data"
    },
    {
     "data": {
      "text/html": [
       "<pre style=\"white-space:pre;overflow-x:auto;line-height:normal;font-family:Menlo,'DejaVu Sans Mono',consolas,'Courier New',monospace\">\n",
       "</pre>\n"
      ],
      "text/plain": [
       "\n"
      ]
     },
     "metadata": {},
     "output_type": "display_data"
    },
    {
     "name": "stdout",
     "output_type": "stream",
     "text": [
      "Feature: permutation_entropy\n"
     ]
    },
    {
     "data": {
      "text/html": [
       "<pre style=\"white-space:pre;overflow-x:auto;line-height:normal;font-family:Menlo,'DejaVu Sans Mono',consolas,'Courier New',monospace\"></pre>\n"
      ],
      "text/plain": []
     },
     "metadata": {},
     "output_type": "display_data"
    },
    {
     "data": {
      "text/html": [
       "<pre style=\"white-space:pre;overflow-x:auto;line-height:normal;font-family:Menlo,'DejaVu Sans Mono',consolas,'Courier New',monospace\">\n",
       "</pre>\n"
      ],
      "text/plain": [
       "\n"
      ]
     },
     "metadata": {},
     "output_type": "display_data"
    },
    {
     "name": "stdout",
     "output_type": "stream",
     "text": [
      "Feature: range_count\n"
     ]
    },
    {
     "data": {
      "text/html": [
       "<pre style=\"white-space:pre;overflow-x:auto;line-height:normal;font-family:Menlo,'DejaVu Sans Mono',consolas,'Courier New',monospace\"></pre>\n"
      ],
      "text/plain": []
     },
     "metadata": {},
     "output_type": "display_data"
    },
    {
     "data": {
      "text/html": [
       "<pre style=\"white-space:pre;overflow-x:auto;line-height:normal;font-family:Menlo,'DejaVu Sans Mono',consolas,'Courier New',monospace\">\n",
       "</pre>\n"
      ],
      "text/plain": [
       "\n"
      ]
     },
     "metadata": {},
     "output_type": "display_data"
    },
    {
     "name": "stdout",
     "output_type": "stream",
     "text": [
      "Feature: ratio_beyond_r_sigma\n"
     ]
    },
    {
     "data": {
      "text/html": [
       "<pre style=\"white-space:pre;overflow-x:auto;line-height:normal;font-family:Menlo,'DejaVu Sans Mono',consolas,'Courier New',monospace\"></pre>\n"
      ],
      "text/plain": []
     },
     "metadata": {},
     "output_type": "display_data"
    },
    {
     "data": {
      "text/html": [
       "<pre style=\"white-space:pre;overflow-x:auto;line-height:normal;font-family:Menlo,'DejaVu Sans Mono',consolas,'Courier New',monospace\">\n",
       "</pre>\n"
      ],
      "text/plain": [
       "\n"
      ]
     },
     "metadata": {},
     "output_type": "display_data"
    },
    {
     "name": "stdout",
     "output_type": "stream",
     "text": [
      "Feature: ratio_n_unique_to_length\n"
     ]
    },
    {
     "data": {
      "text/html": [
       "<pre style=\"white-space:pre;overflow-x:auto;line-height:normal;font-family:Menlo,'DejaVu Sans Mono',consolas,'Courier New',monospace\"></pre>\n"
      ],
      "text/plain": []
     },
     "metadata": {},
     "output_type": "display_data"
    },
    {
     "data": {
      "text/html": [
       "<pre style=\"white-space:pre;overflow-x:auto;line-height:normal;font-family:Menlo,'DejaVu Sans Mono',consolas,'Courier New',monospace\">\n",
       "</pre>\n"
      ],
      "text/plain": [
       "\n"
      ]
     },
     "metadata": {},
     "output_type": "display_data"
    },
    {
     "name": "stdout",
     "output_type": "stream",
     "text": [
      "Feature: root_mean_square\n"
     ]
    },
    {
     "data": {
      "text/html": [
       "<pre style=\"white-space:pre;overflow-x:auto;line-height:normal;font-family:Menlo,'DejaVu Sans Mono',consolas,'Courier New',monospace\"></pre>\n"
      ],
      "text/plain": []
     },
     "metadata": {},
     "output_type": "display_data"
    },
    {
     "data": {
      "text/html": [
       "<pre style=\"white-space:pre;overflow-x:auto;line-height:normal;font-family:Menlo,'DejaVu Sans Mono',consolas,'Courier New',monospace\">\n",
       "</pre>\n"
      ],
      "text/plain": [
       "\n"
      ]
     },
     "metadata": {},
     "output_type": "display_data"
    },
    {
     "data": {
      "text/html": [
       "<pre style=\"white-space:pre;overflow-x:auto;line-height:normal;font-family:Menlo,'DejaVu Sans Mono',consolas,'Courier New',monospace\">/Users/mathieucayssol/Documents/functime/.venv/lib/python3.11/site-packages/tsfresh/feature_extraction/feature_calc\n",
       "ulators.py:1739: RuntimeWarning: divide by zero encountered in log\n",
       "  return -np.log(A / B)\n",
       "</pre>\n"
      ],
      "text/plain": [
       "/Users/mathieucayssol/Documents/functime/.venv/lib/python3.11/site-packages/tsfresh/feature_extraction/feature_calc\n",
       "ulators.py:1739: RuntimeWarning: divide by zero encountered in log\n",
       "  return -np.log(A / B)\n"
      ]
     },
     "metadata": {},
     "output_type": "display_data"
    },
    {
     "name": "stdout",
     "output_type": "stream",
     "text": [
      "Feature: sample_entropy\n"
     ]
    },
    {
     "data": {
      "text/html": [
       "<pre style=\"white-space:pre;overflow-x:auto;line-height:normal;font-family:Menlo,'DejaVu Sans Mono',consolas,'Courier New',monospace\"></pre>\n"
      ],
      "text/plain": []
     },
     "metadata": {},
     "output_type": "display_data"
    },
    {
     "data": {
      "text/html": [
       "<pre style=\"white-space:pre;overflow-x:auto;line-height:normal;font-family:Menlo,'DejaVu Sans Mono',consolas,'Courier New',monospace\">\n",
       "</pre>\n"
      ],
      "text/plain": [
       "\n"
      ]
     },
     "metadata": {},
     "output_type": "display_data"
    },
    {
     "name": "stdout",
     "output_type": "stream",
     "text": [
      "Failure for feature: sample_entropy\n",
      "Feature: spkt_welch_density\n"
     ]
    },
    {
     "data": {
      "text/html": [
       "<pre style=\"white-space:pre;overflow-x:auto;line-height:normal;font-family:Menlo,'DejaVu Sans Mono',consolas,'Courier New',monospace\"></pre>\n"
      ],
      "text/plain": []
     },
     "metadata": {},
     "output_type": "display_data"
    },
    {
     "data": {
      "text/html": [
       "<pre style=\"white-space:pre;overflow-x:auto;line-height:normal;font-family:Menlo,'DejaVu Sans Mono',consolas,'Courier New',monospace\">\n",
       "</pre>\n"
      ],
      "text/plain": [
       "\n"
      ]
     },
     "metadata": {},
     "output_type": "display_data"
    },
    {
     "name": "stdout",
     "output_type": "stream",
     "text": [
      "Failure for feature: spkt_welch_density\n",
      "Feature: sum_reocurring_points\n"
     ]
    },
    {
     "data": {
      "text/html": [
       "<pre style=\"white-space:pre;overflow-x:auto;line-height:normal;font-family:Menlo,'DejaVu Sans Mono',consolas,'Courier New',monospace\"></pre>\n"
      ],
      "text/plain": []
     },
     "metadata": {},
     "output_type": "display_data"
    },
    {
     "data": {
      "text/html": [
       "<pre style=\"white-space:pre;overflow-x:auto;line-height:normal;font-family:Menlo,'DejaVu Sans Mono',consolas,'Courier New',monospace\">\n",
       "</pre>\n"
      ],
      "text/plain": [
       "\n"
      ]
     },
     "metadata": {},
     "output_type": "display_data"
    },
    {
     "name": "stdout",
     "output_type": "stream",
     "text": [
      "Feature: sum_reocurring_values\n"
     ]
    },
    {
     "data": {
      "text/html": [
       "<pre style=\"white-space:pre;overflow-x:auto;line-height:normal;font-family:Menlo,'DejaVu Sans Mono',consolas,'Courier New',monospace\"></pre>\n"
      ],
      "text/plain": []
     },
     "metadata": {},
     "output_type": "display_data"
    },
    {
     "data": {
      "text/html": [
       "<pre style=\"white-space:pre;overflow-x:auto;line-height:normal;font-family:Menlo,'DejaVu Sans Mono',consolas,'Courier New',monospace\">\n",
       "</pre>\n"
      ],
      "text/plain": [
       "\n"
      ]
     },
     "metadata": {},
     "output_type": "display_data"
    },
    {
     "name": "stdout",
     "output_type": "stream",
     "text": [
      "Feature: symmetry_looking\n"
     ]
    },
    {
     "data": {
      "text/html": [
       "<pre style=\"white-space:pre;overflow-x:auto;line-height:normal;font-family:Menlo,'DejaVu Sans Mono',consolas,'Courier New',monospace\"></pre>\n"
      ],
      "text/plain": []
     },
     "metadata": {},
     "output_type": "display_data"
    },
    {
     "data": {
      "text/html": [
       "<pre style=\"white-space:pre;overflow-x:auto;line-height:normal;font-family:Menlo,'DejaVu Sans Mono',consolas,'Courier New',monospace\">\n",
       "</pre>\n"
      ],
      "text/plain": [
       "\n"
      ]
     },
     "metadata": {},
     "output_type": "display_data"
    },
    {
     "name": "stdout",
     "output_type": "stream",
     "text": [
      "Feature: time_reversal_asymmetry_statistic\n"
     ]
    },
    {
     "data": {
      "text/html": [
       "<pre style=\"white-space:pre;overflow-x:auto;line-height:normal;font-family:Menlo,'DejaVu Sans Mono',consolas,'Courier New',monospace\"></pre>\n"
      ],
      "text/plain": []
     },
     "metadata": {},
     "output_type": "display_data"
    },
    {
     "data": {
      "text/html": [
       "<pre style=\"white-space:pre;overflow-x:auto;line-height:normal;font-family:Menlo,'DejaVu Sans Mono',consolas,'Courier New',monospace\">\n",
       "</pre>\n"
      ],
      "text/plain": [
       "\n"
      ]
     },
     "metadata": {},
     "output_type": "display_data"
    },
    {
     "name": "stdout",
     "output_type": "stream",
     "text": [
      "Feature: variation_coefficient\n"
     ]
    },
    {
     "data": {
      "text/html": [
       "<pre style=\"white-space:pre;overflow-x:auto;line-height:normal;font-family:Menlo,'DejaVu Sans Mono',consolas,'Courier New',monospace\"></pre>\n"
      ],
      "text/plain": []
     },
     "metadata": {},
     "output_type": "display_data"
    },
    {
     "data": {
      "text/html": [
       "<pre style=\"white-space:pre;overflow-x:auto;line-height:normal;font-family:Menlo,'DejaVu Sans Mono',consolas,'Courier New',monospace\">\n",
       "</pre>\n"
      ],
      "text/plain": [
       "\n"
      ]
     },
     "metadata": {},
     "output_type": "display_data"
    },
    {
     "name": "stdout",
     "output_type": "stream",
     "text": [
      "Feature: var_gt_std\n"
     ]
    },
    {
     "data": {
      "text/html": [
       "<pre style=\"white-space:pre;overflow-x:auto;line-height:normal;font-family:Menlo,'DejaVu Sans Mono',consolas,'Courier New',monospace\"></pre>\n"
      ],
      "text/plain": []
     },
     "metadata": {},
     "output_type": "display_data"
    },
    {
     "data": {
      "text/html": [
       "<pre style=\"white-space:pre;overflow-x:auto;line-height:normal;font-family:Menlo,'DejaVu Sans Mono',consolas,'Courier New',monospace\">\n",
       "</pre>\n"
      ],
      "text/plain": [
       "\n"
      ]
     },
     "metadata": {},
     "output_type": "display_data"
    }
   ],
   "source": [
    "bench_expr = all_benchmarks(params = _FUNC_PARAMS_BENCH, expr = True)"
   ]
  },
  {
   "cell_type": "code",
   "execution_count": 25,
   "metadata": {},
   "outputs": [
    {
     "name": "stdout",
     "output_type": "stream",
     "text": [
      "Feature: absolute_energy\n"
     ]
    },
    {
     "data": {
      "text/html": [
       "<pre style=\"white-space:pre;overflow-x:auto;line-height:normal;font-family:Menlo,'DejaVu Sans Mono',consolas,'Courier New',monospace\"></pre>\n"
      ],
      "text/plain": []
     },
     "metadata": {},
     "output_type": "display_data"
    },
    {
     "data": {
      "text/html": [
       "<pre style=\"white-space:pre;overflow-x:auto;line-height:normal;font-family:Menlo,'DejaVu Sans Mono',consolas,'Courier New',monospace\">\n",
       "</pre>\n"
      ],
      "text/plain": [
       "\n"
      ]
     },
     "metadata": {},
     "output_type": "display_data"
    },
    {
     "ename": "TypeError",
     "evalue": "slice_dataframe() takes 3 positional arguments but 4 were given",
     "output_type": "error",
     "traceback": [
      "\u001b[0;31m---------------------------------------------------------------------------\u001b[0m",
      "\u001b[0;31mTypeError\u001b[0m                                 Traceback (most recent call last)",
      "\u001b[1;32m/Users/mathieucayssol/Documents/functime/benchmarks/functime_tsfresh_benchmark.ipynb Cell 12\u001b[0m line \u001b[0;36m1\n\u001b[0;32m----> <a href='vscode-notebook-cell:/Users/mathieucayssol/Documents/functime/benchmarks/functime_tsfresh_benchmark.ipynb#W6sZmlsZQ%3D%3D?line=0'>1</a>\u001b[0m bench_series \u001b[39m=\u001b[39m all_benchmarks(params \u001b[39m=\u001b[39;49m _FUNC_PARAMS_BENCH, expr \u001b[39m=\u001b[39;49m \u001b[39mFalse\u001b[39;49;00m)\n",
      "\u001b[1;32m/Users/mathieucayssol/Documents/functime/benchmarks/functime_tsfresh_benchmark.ipynb Cell 12\u001b[0m line \u001b[0;36m1\n\u001b[1;32m     <a href='vscode-notebook-cell:/Users/mathieucayssol/Documents/functime/benchmarks/functime_tsfresh_benchmark.ipynb#W6sZmlsZQ%3D%3D?line=10'>11</a>\u001b[0m \u001b[39mfor\u001b[39;00m x \u001b[39min\u001b[39;00m params:\n\u001b[1;32m     <a href='vscode-notebook-cell:/Users/mathieucayssol/Documents/functime/benchmarks/functime_tsfresh_benchmark.ipynb#W6sZmlsZQ%3D%3D?line=11'>12</a>\u001b[0m     \u001b[39mprint\u001b[39m(\u001b[39m\"\u001b[39m\u001b[39mFeature: \u001b[39m\u001b[39m{}\u001b[39;00m\u001b[39m\"\u001b[39m\u001b[39m.\u001b[39mformat(x[\u001b[39m0\u001b[39m]\u001b[39m.\u001b[39m\u001b[39m__name__\u001b[39m))\n\u001b[0;32m---> <a href='vscode-notebook-cell:/Users/mathieucayssol/Documents/functime/benchmarks/functime_tsfresh_benchmark.ipynb#W6sZmlsZQ%3D%3D?line=12'>13</a>\u001b[0m     bench \u001b[39m=\u001b[39m benchmark(\n\u001b[1;32m     <a href='vscode-notebook-cell:/Users/mathieucayssol/Documents/functime/benchmarks/functime_tsfresh_benchmark.ipynb#W6sZmlsZQ%3D%3D?line=13'>14</a>\u001b[0m         f_feat \u001b[39m=\u001b[39;49m x[\u001b[39m0\u001b[39;49m],\n\u001b[1;32m     <a href='vscode-notebook-cell:/Users/mathieucayssol/Documents/functime/benchmarks/functime_tsfresh_benchmark.ipynb#W6sZmlsZQ%3D%3D?line=14'>15</a>\u001b[0m         ts_feat \u001b[39m=\u001b[39;49m x[\u001b[39m1\u001b[39;49m],\n\u001b[1;32m     <a href='vscode-notebook-cell:/Users/mathieucayssol/Documents/functime/benchmarks/functime_tsfresh_benchmark.ipynb#W6sZmlsZQ%3D%3D?line=15'>16</a>\u001b[0m         f_params \u001b[39m=\u001b[39;49m x[\u001b[39m2\u001b[39;49m],\n\u001b[1;32m     <a href='vscode-notebook-cell:/Users/mathieucayssol/Documents/functime/benchmarks/functime_tsfresh_benchmark.ipynb#W6sZmlsZQ%3D%3D?line=16'>17</a>\u001b[0m         ts_params \u001b[39m=\u001b[39;49m x[\u001b[39m3\u001b[39;49m],\n\u001b[1;32m     <a href='vscode-notebook-cell:/Users/mathieucayssol/Documents/functime/benchmarks/functime_tsfresh_benchmark.ipynb#W6sZmlsZQ%3D%3D?line=17'>18</a>\u001b[0m         expr \u001b[39m=\u001b[39;49m expr\n\u001b[1;32m     <a href='vscode-notebook-cell:/Users/mathieucayssol/Documents/functime/benchmarks/functime_tsfresh_benchmark.ipynb#W6sZmlsZQ%3D%3D?line=18'>19</a>\u001b[0m     )\n\u001b[1;32m     <a href='vscode-notebook-cell:/Users/mathieucayssol/Documents/functime/benchmarks/functime_tsfresh_benchmark.ipynb#W6sZmlsZQ%3D%3D?line=19'>20</a>\u001b[0m     bench_df \u001b[39m=\u001b[39m pl\u001b[39m.\u001b[39mconcat([\n\u001b[1;32m     <a href='vscode-notebook-cell:/Users/mathieucayssol/Documents/functime/benchmarks/functime_tsfresh_benchmark.ipynb#W6sZmlsZQ%3D%3D?line=20'>21</a>\u001b[0m         pl\u001b[39m.\u001b[39mDataFrame({\n\u001b[1;32m     <a href='vscode-notebook-cell:/Users/mathieucayssol/Documents/functime/benchmarks/functime_tsfresh_benchmark.ipynb#W6sZmlsZQ%3D%3D?line=21'>22</a>\u001b[0m             \u001b[39m\"\u001b[39m\u001b[39mid\u001b[39m\u001b[39m\"\u001b[39m: [x[\u001b[39m0\u001b[39m]\u001b[39m.\u001b[39m\u001b[39m__name__\u001b[39m]\u001b[39m*\u001b[39m\u001b[39mlen\u001b[39m(bench\u001b[39m.\u001b[39mn_range),\n\u001b[0;32m   (...)\u001b[0m\n\u001b[1;32m     <a href='vscode-notebook-cell:/Users/mathieucayssol/Documents/functime/benchmarks/functime_tsfresh_benchmark.ipynb#W6sZmlsZQ%3D%3D?line=27'>28</a>\u001b[0m         bench_df]\n\u001b[1;32m     <a href='vscode-notebook-cell:/Users/mathieucayssol/Documents/functime/benchmarks/functime_tsfresh_benchmark.ipynb#W6sZmlsZQ%3D%3D?line=28'>29</a>\u001b[0m     )\n\u001b[1;32m     <a href='vscode-notebook-cell:/Users/mathieucayssol/Documents/functime/benchmarks/functime_tsfresh_benchmark.ipynb#W6sZmlsZQ%3D%3D?line=29'>30</a>\u001b[0m     \u001b[39mprint\u001b[39m(\u001b[39m\"\u001b[39m\u001b[39mFailure for feature: \u001b[39m\u001b[39m{}\u001b[39;00m\u001b[39m\"\u001b[39m\u001b[39m.\u001b[39mformat(x[\u001b[39m0\u001b[39m]\u001b[39m.\u001b[39m\u001b[39m__name__\u001b[39m))\n",
      "\u001b[1;32m/Users/mathieucayssol/Documents/functime/benchmarks/functime_tsfresh_benchmark.ipynb Cell 12\u001b[0m line \u001b[0;36m5\n\u001b[1;32m      <a href='vscode-notebook-cell:/Users/mathieucayssol/Documents/functime/benchmarks/functime_tsfresh_benchmark.ipynb#W6sZmlsZQ%3D%3D?line=2'>3</a>\u001b[0m \u001b[39mif\u001b[39;00m f_feat\u001b[39m.\u001b[39m\u001b[39m__name__\u001b[39m \u001b[39min\u001b[39;00m (\u001b[39m\"\u001b[39m\u001b[39mbinned_entropy\u001b[39m\u001b[39m\"\u001b[39m, \u001b[39m\"\u001b[39m\u001b[39mapproximate_entropy\u001b[39m\u001b[39m\"\u001b[39m, \u001b[39m\"\u001b[39m\u001b[39mpermutation_entropy\u001b[39m\u001b[39m\"\u001b[39m, \u001b[39m\"\u001b[39m\u001b[39msample_entropy\u001b[39m\u001b[39m\"\u001b[39m):\n\u001b[1;32m      <a href='vscode-notebook-cell:/Users/mathieucayssol/Documents/functime/benchmarks/functime_tsfresh_benchmark.ipynb#W6sZmlsZQ%3D%3D?line=3'>4</a>\u001b[0m     upper_n \u001b[39m=\u001b[39m \u001b[39m15\u001b[39m\n\u001b[0;32m----> <a href='vscode-notebook-cell:/Users/mathieucayssol/Documents/functime/benchmarks/functime_tsfresh_benchmark.ipynb#W6sZmlsZQ%3D%3D?line=4'>5</a>\u001b[0m benchmark \u001b[39m=\u001b[39m perfplot\u001b[39m.\u001b[39;49mbench(\n\u001b[1;32m      <a href='vscode-notebook-cell:/Users/mathieucayssol/Documents/functime/benchmarks/functime_tsfresh_benchmark.ipynb#W6sZmlsZQ%3D%3D?line=5'>6</a>\u001b[0m     setup \u001b[39m=\u001b[39;49m \u001b[39mlambda\u001b[39;49;00m n: slice_dataframe(DF_PANDAS, DF_PL_EAGER, DF_PL_LAZY, n)[:\u001b[39m2\u001b[39;49m],\n\u001b[1;32m      <a href='vscode-notebook-cell:/Users/mathieucayssol/Documents/functime/benchmarks/functime_tsfresh_benchmark.ipynb#W6sZmlsZQ%3D%3D?line=6'>7</a>\u001b[0m     kernels \u001b[39m=\u001b[39;49m [\n\u001b[1;32m      <a href='vscode-notebook-cell:/Users/mathieucayssol/Documents/functime/benchmarks/functime_tsfresh_benchmark.ipynb#W6sZmlsZQ%3D%3D?line=7'>8</a>\u001b[0m         \u001b[39mlambda\u001b[39;49;00m x, _y: ts_feat(x[\u001b[39m\"\u001b[39;49m\u001b[39mvalue\u001b[39;49m\u001b[39m\"\u001b[39;49m], \u001b[39m*\u001b[39;49m\u001b[39m*\u001b[39;49mts_params),\n\u001b[1;32m      <a href='vscode-notebook-cell:/Users/mathieucayssol/Documents/functime/benchmarks/functime_tsfresh_benchmark.ipynb#W6sZmlsZQ%3D%3D?line=8'>9</a>\u001b[0m         \u001b[39mlambda\u001b[39;49;00m _x, y: f_feat(y[\u001b[39m\"\u001b[39;49m\u001b[39mvalue\u001b[39;49m\u001b[39m\"\u001b[39;49m], \u001b[39m*\u001b[39;49m\u001b[39m*\u001b[39;49mf_params) \u001b[39mif\u001b[39;49;00m \u001b[39mnot\u001b[39;49;00m expr \u001b[39melse\u001b[39;49;00m y\u001b[39m.\u001b[39;49mselect(pl\u001b[39m.\u001b[39;49mcol(\u001b[39m\"\u001b[39;49m\u001b[39mvalue\u001b[39;49m\u001b[39m\"\u001b[39;49m)\u001b[39m.\u001b[39;49mts\u001b[39m.\u001b[39;49mf_feat(\u001b[39m*\u001b[39;49m\u001b[39m*\u001b[39;49mf_params))\n\u001b[1;32m     <a href='vscode-notebook-cell:/Users/mathieucayssol/Documents/functime/benchmarks/functime_tsfresh_benchmark.ipynb#W6sZmlsZQ%3D%3D?line=9'>10</a>\u001b[0m     ],\n\u001b[1;32m     <a href='vscode-notebook-cell:/Users/mathieucayssol/Documents/functime/benchmarks/functime_tsfresh_benchmark.ipynb#W6sZmlsZQ%3D%3D?line=10'>11</a>\u001b[0m     n_range \u001b[39m=\u001b[39;49m [\u001b[39m2\u001b[39;49m\u001b[39m*\u001b[39;49m\u001b[39m*\u001b[39;49mk \u001b[39mfor\u001b[39;49;00m k \u001b[39min\u001b[39;49;00m \u001b[39mrange\u001b[39;49m(\u001b[39m6\u001b[39;49m, upper_n)],\n\u001b[1;32m     <a href='vscode-notebook-cell:/Users/mathieucayssol/Documents/functime/benchmarks/functime_tsfresh_benchmark.ipynb#W6sZmlsZQ%3D%3D?line=11'>12</a>\u001b[0m     equality_check\u001b[39m=\u001b[39;49m\u001b[39mFalse\u001b[39;49;00m,\n\u001b[1;32m     <a href='vscode-notebook-cell:/Users/mathieucayssol/Documents/functime/benchmarks/functime_tsfresh_benchmark.ipynb#W6sZmlsZQ%3D%3D?line=12'>13</a>\u001b[0m     labels\u001b[39m=\u001b[39;49m[\u001b[39m\"\u001b[39;49m\u001b[39mtsfresh\u001b[39;49m\u001b[39m\"\u001b[39;49m, \u001b[39m\"\u001b[39;49m\u001b[39mtsfresh\u001b[39;49m\u001b[39m\"\u001b[39;49m, \u001b[39m\"\u001b[39;49m\u001b[39mfunctime\u001b[39;49m\u001b[39m\"\u001b[39;49m]\n\u001b[1;32m     <a href='vscode-notebook-cell:/Users/mathieucayssol/Documents/functime/benchmarks/functime_tsfresh_benchmark.ipynb#W6sZmlsZQ%3D%3D?line=13'>14</a>\u001b[0m )\n\u001b[1;32m     <a href='vscode-notebook-cell:/Users/mathieucayssol/Documents/functime/benchmarks/functime_tsfresh_benchmark.ipynb#W6sZmlsZQ%3D%3D?line=14'>15</a>\u001b[0m \u001b[39mreturn\u001b[39;00m benchmark\n",
      "File \u001b[0;32m~/Documents/functime/.venv/lib/python3.11/site-packages/perfplot/_main.py:521\u001b[0m, in \u001b[0;36mbench\u001b[0;34m(kernels, n_range, setup, flops, labels, xlabel, title, target_time_per_measurement, max_time, equality_check, show_progress)\u001b[0m\n\u001b[1;32m    508\u001b[0m b \u001b[39m=\u001b[39m Bench(\n\u001b[1;32m    509\u001b[0m     setup,\n\u001b[1;32m    510\u001b[0m     kernels,\n\u001b[0;32m   (...)\u001b[0m\n\u001b[1;32m    517\u001b[0m     callback\u001b[39m=\u001b[39mcallback,\n\u001b[1;32m    518\u001b[0m )\n\u001b[1;32m    520\u001b[0m \u001b[39mfor\u001b[39;00m i \u001b[39min\u001b[39;00m \u001b[39mrange\u001b[39m(\u001b[39mlen\u001b[39m(n_range)):\n\u001b[0;32m--> 521\u001b[0m     timings_s[i] \u001b[39m=\u001b[39m \u001b[39mnext\u001b[39m(b)\n\u001b[1;32m    522\u001b[0m     \u001b[39m# override n_rane in case it got overridden in next()\u001b[39;00m\n\u001b[1;32m    523\u001b[0m     n_range \u001b[39m=\u001b[39m b\u001b[39m.\u001b[39mn_range\n",
      "File \u001b[0;32m~/Documents/functime/.venv/lib/python3.11/site-packages/perfplot/_main.py:227\u001b[0m, in \u001b[0;36mBench.__next__\u001b[0;34m(self)\u001b[0m\n\u001b[1;32m    225\u001b[0m data \u001b[39m=\u001b[39m \u001b[39mNone\u001b[39;00m\n\u001b[1;32m    226\u001b[0m \u001b[39mif\u001b[39;00m \u001b[39mcallable\u001b[39m(\u001b[39mself\u001b[39m\u001b[39m.\u001b[39msetup):\n\u001b[0;32m--> 227\u001b[0m     data \u001b[39m=\u001b[39m \u001b[39mself\u001b[39;49m\u001b[39m.\u001b[39;49msetup(n)\n\u001b[1;32m    228\u001b[0m     \u001b[39mif\u001b[39;00m \u001b[39mnot\u001b[39;00m \u001b[39misinstance\u001b[39m(data, \u001b[39mtuple\u001b[39m):\n\u001b[1;32m    229\u001b[0m         data \u001b[39m=\u001b[39m (data,)\n",
      "\u001b[1;32m/Users/mathieucayssol/Documents/functime/benchmarks/functime_tsfresh_benchmark.ipynb Cell 12\u001b[0m line \u001b[0;36m6\n\u001b[1;32m      <a href='vscode-notebook-cell:/Users/mathieucayssol/Documents/functime/benchmarks/functime_tsfresh_benchmark.ipynb#W6sZmlsZQ%3D%3D?line=2'>3</a>\u001b[0m \u001b[39mif\u001b[39;00m f_feat\u001b[39m.\u001b[39m\u001b[39m__name__\u001b[39m \u001b[39min\u001b[39;00m (\u001b[39m\"\u001b[39m\u001b[39mbinned_entropy\u001b[39m\u001b[39m\"\u001b[39m, \u001b[39m\"\u001b[39m\u001b[39mapproximate_entropy\u001b[39m\u001b[39m\"\u001b[39m, \u001b[39m\"\u001b[39m\u001b[39mpermutation_entropy\u001b[39m\u001b[39m\"\u001b[39m, \u001b[39m\"\u001b[39m\u001b[39msample_entropy\u001b[39m\u001b[39m\"\u001b[39m):\n\u001b[1;32m      <a href='vscode-notebook-cell:/Users/mathieucayssol/Documents/functime/benchmarks/functime_tsfresh_benchmark.ipynb#W6sZmlsZQ%3D%3D?line=3'>4</a>\u001b[0m     upper_n \u001b[39m=\u001b[39m \u001b[39m15\u001b[39m\n\u001b[1;32m      <a href='vscode-notebook-cell:/Users/mathieucayssol/Documents/functime/benchmarks/functime_tsfresh_benchmark.ipynb#W6sZmlsZQ%3D%3D?line=4'>5</a>\u001b[0m benchmark \u001b[39m=\u001b[39m perfplot\u001b[39m.\u001b[39mbench(\n\u001b[0;32m----> <a href='vscode-notebook-cell:/Users/mathieucayssol/Documents/functime/benchmarks/functime_tsfresh_benchmark.ipynb#W6sZmlsZQ%3D%3D?line=5'>6</a>\u001b[0m     setup \u001b[39m=\u001b[39m \u001b[39mlambda\u001b[39;00m n: slice_dataframe(DF_PANDAS, DF_PL_EAGER, DF_PL_LAZY, n)[:\u001b[39m2\u001b[39m],\n\u001b[1;32m      <a href='vscode-notebook-cell:/Users/mathieucayssol/Documents/functime/benchmarks/functime_tsfresh_benchmark.ipynb#W6sZmlsZQ%3D%3D?line=6'>7</a>\u001b[0m     kernels \u001b[39m=\u001b[39m [\n\u001b[1;32m      <a href='vscode-notebook-cell:/Users/mathieucayssol/Documents/functime/benchmarks/functime_tsfresh_benchmark.ipynb#W6sZmlsZQ%3D%3D?line=7'>8</a>\u001b[0m         \u001b[39mlambda\u001b[39;00m x, _y: ts_feat(x[\u001b[39m\"\u001b[39m\u001b[39mvalue\u001b[39m\u001b[39m\"\u001b[39m], \u001b[39m*\u001b[39m\u001b[39m*\u001b[39mts_params),\n\u001b[1;32m      <a href='vscode-notebook-cell:/Users/mathieucayssol/Documents/functime/benchmarks/functime_tsfresh_benchmark.ipynb#W6sZmlsZQ%3D%3D?line=8'>9</a>\u001b[0m         \u001b[39mlambda\u001b[39;00m _x, y: f_feat(y[\u001b[39m\"\u001b[39m\u001b[39mvalue\u001b[39m\u001b[39m\"\u001b[39m], \u001b[39m*\u001b[39m\u001b[39m*\u001b[39mf_params) \u001b[39mif\u001b[39;00m \u001b[39mnot\u001b[39;00m expr \u001b[39melse\u001b[39;00m y\u001b[39m.\u001b[39mselect(pl\u001b[39m.\u001b[39mcol(\u001b[39m\"\u001b[39m\u001b[39mvalue\u001b[39m\u001b[39m\"\u001b[39m)\u001b[39m.\u001b[39mts\u001b[39m.\u001b[39mf_feat(\u001b[39m*\u001b[39m\u001b[39m*\u001b[39mf_params))\n\u001b[1;32m     <a href='vscode-notebook-cell:/Users/mathieucayssol/Documents/functime/benchmarks/functime_tsfresh_benchmark.ipynb#W6sZmlsZQ%3D%3D?line=9'>10</a>\u001b[0m     ],\n\u001b[1;32m     <a href='vscode-notebook-cell:/Users/mathieucayssol/Documents/functime/benchmarks/functime_tsfresh_benchmark.ipynb#W6sZmlsZQ%3D%3D?line=10'>11</a>\u001b[0m     n_range \u001b[39m=\u001b[39m [\u001b[39m2\u001b[39m\u001b[39m*\u001b[39m\u001b[39m*\u001b[39mk \u001b[39mfor\u001b[39;00m k \u001b[39min\u001b[39;00m \u001b[39mrange\u001b[39m(\u001b[39m6\u001b[39m, upper_n)],\n\u001b[1;32m     <a href='vscode-notebook-cell:/Users/mathieucayssol/Documents/functime/benchmarks/functime_tsfresh_benchmark.ipynb#W6sZmlsZQ%3D%3D?line=11'>12</a>\u001b[0m     equality_check\u001b[39m=\u001b[39m\u001b[39mFalse\u001b[39;00m,\n\u001b[1;32m     <a href='vscode-notebook-cell:/Users/mathieucayssol/Documents/functime/benchmarks/functime_tsfresh_benchmark.ipynb#W6sZmlsZQ%3D%3D?line=12'>13</a>\u001b[0m     labels\u001b[39m=\u001b[39m[\u001b[39m\"\u001b[39m\u001b[39mtsfresh\u001b[39m\u001b[39m\"\u001b[39m, \u001b[39m\"\u001b[39m\u001b[39mtsfresh\u001b[39m\u001b[39m\"\u001b[39m, \u001b[39m\"\u001b[39m\u001b[39mfunctime\u001b[39m\u001b[39m\"\u001b[39m]\n\u001b[1;32m     <a href='vscode-notebook-cell:/Users/mathieucayssol/Documents/functime/benchmarks/functime_tsfresh_benchmark.ipynb#W6sZmlsZQ%3D%3D?line=13'>14</a>\u001b[0m )\n\u001b[1;32m     <a href='vscode-notebook-cell:/Users/mathieucayssol/Documents/functime/benchmarks/functime_tsfresh_benchmark.ipynb#W6sZmlsZQ%3D%3D?line=14'>15</a>\u001b[0m \u001b[39mreturn\u001b[39;00m benchmark\n",
      "\u001b[0;31mTypeError\u001b[0m: slice_dataframe() takes 3 positional arguments but 4 were given"
     ]
    }
   ],
   "source": [
    "bench_series = all_benchmarks(params = _FUNC_PARAMS_BENCH, expr = False)"
   ]
  },
  {
   "cell_type": "code",
   "execution_count": 59,
   "metadata": {},
   "outputs": [],
   "source": [
    "def show_table(df: pl.DataFrame):\n",
    "    # df.with_columns(\n",
    "    # avg = pl.col(\"X_time\").mean().over(pl.col(\"id\"))\n",
    "    # ).pivot(index=\"id\", values=[\"X_time\", \"avg\"], columns=\"n\")\n",
    "\n",
    "    df_pivot = df.pivot(index=\"id\", values=\"X_time\", columns=\"n\")\n",
    "    return df_pivot.with_columns(\n",
    "        avg = df_pivot.mean(axis=1)\n",
    "    )"
   ]
  },
  {
   "cell_type": "code",
   "execution_count": 62,
   "metadata": {},
   "outputs": [],
   "source": [
    "test = show_table(bench_expr)"
   ]
  }
 ],
 "metadata": {
  "kernelspec": {
   "display_name": ".venv",
   "language": "python",
   "name": "python3"
  },
  "language_info": {
   "codemirror_mode": {
    "name": "ipython",
    "version": 3
   },
   "file_extension": ".py",
   "mimetype": "text/x-python",
   "name": "python",
   "nbconvert_exporter": "python",
   "pygments_lexer": "ipython3",
   "version": "3.11.5"
  },
  "orig_nbformat": 4
 },
 "nbformat": 4,
 "nbformat_minor": 2
}
