{
 "cells": [
  {
   "cell_type": "code",
   "execution_count": null,
   "metadata": {},
   "outputs": [],
   "source": [
    "import polars as pl\n",
    "import numpy as np"
   ]
  },
  {
   "cell_type": "code",
   "execution_count": null,
   "metadata": {},
   "outputs": [],
   "source": [
    "df = pl.read_parquet(\"./data/commodities.parquet\")\n",
    "# df_pd = df.to_pandas()"
   ]
  },
  {
   "cell_type": "code",
   "execution_count": null,
   "metadata": {},
   "outputs": [],
   "source": [
    "def query_similarity_count(x:pl.Expr, subseq:list[float], threshold:float, z_normalize:bool=False):\n",
    "    '''\n",
    "    '''\n",
    "    # If we want to allow other distances metrics, one way \n",
    "    # is to change pl.element().pow(2).sum().sqrt() step\n",
    "\n",
    "    s = pl.Series(subseq, dtype=pl.Float64)\n",
    "    if z_normalize:\n",
    "        s = (s - s.mean())/s.std()\n",
    "        mean = pl.concat_list(x, *(x.shift(-i) for i in range(1, len(s)))).list.eval(pl.element().mean()).list.first()\n",
    "        std = pl.concat_list(x, *(x.shift(-i) for i in range(1, len(s)))).list.eval(pl.element().std()).list.first()\n",
    "        expr = (\n",
    "            pl.concat_list((x-mean)/std - pl.lit(s[0]), *(((x.shift(-i)-mean)/std - pl.lit(s[i])) \n",
    "                                                          for i in range(1, len(s))))\n",
    "            .list.eval(pl.element().pow(2).sum().sqrt())\n",
    "            .list.first().lt(threshold).sum()\n",
    "        )\n",
    "\n",
    "    else:\n",
    "        expr = (\n",
    "            pl.concat_list(x - s[0], *(x.shift(-i) - s[i] for i in range(1, len(s))))\n",
    "            .list.eval(pl.element().pow(2).sum().sqrt())\n",
    "            .list.first().lt(threshold).sum()\n",
    "        )\n",
    "\n",
    "    return expr"
   ]
  },
  {
   "cell_type": "code",
   "execution_count": null,
   "metadata": {},
   "outputs": [],
   "source": [
    "subseq = [511.47, 511.47, 511.47]"
   ]
  },
  {
   "cell_type": "code",
   "execution_count": null,
   "metadata": {},
   "outputs": [],
   "source": [
    "x = pl.col(\"price\")\n",
    "subseq = [511.47, 511.47, 511.47]\n",
    "s = pl.Series(subseq)\n",
    "df.select(\n",
    "    query_similarity_count(x, subseq, 10, z_normalize=True)\n",
    "    # z_normalized \n",
    ")"
   ]
  },
  {
   "cell_type": "code",
   "execution_count": null,
   "metadata": {},
   "outputs": [],
   "source": []
  },
  {
   "cell_type": "code",
   "execution_count": null,
   "metadata": {},
   "outputs": [],
   "source": [
    "import stumpy\n",
    "\n",
    "q = df[\"price\"].head(3).to_numpy()\n",
    "t = df[\"price\"].to_numpy()\n",
    "stumpy.core.mass(q,t)"
   ]
  },
  {
   "cell_type": "code",
   "execution_count": null,
   "metadata": {},
   "outputs": [],
   "source": [
    "q = np.array([1,2,3]).astype(np.float64)\n",
    "t = np.array(range(1,101)).astype(np.float64)\n",
    "stumpy.core.mass(q,t)"
   ]
  },
  {
   "cell_type": "code",
   "execution_count": null,
   "metadata": {},
   "outputs": [],
   "source": [
    "from functime.feature_extraction.tq_feature_extractions import permutation_entropy\n",
    "import tsfresh.feature_extraction.feature_calculators as fc"
   ]
  },
  {
   "cell_type": "code",
   "execution_count": null,
   "metadata": {},
   "outputs": [],
   "source": []
  },
  {
   "cell_type": "code",
   "execution_count": null,
   "metadata": {},
   "outputs": [],
   "source": [
    "\n",
    "fc.permutation_entropy(df[\"price\"], tau = 1, dimension=3)"
   ]
  },
  {
   "cell_type": "code",
   "execution_count": null,
   "metadata": {},
   "outputs": [],
   "source": [
    "\n",
    "df.lazy().select(\n",
    "    permutation_entropy(pl.col(\"price\"), tau=1, n_dims=3)\n",
    ").collect().item(0,0)"
   ]
  },
  {
   "cell_type": "code",
   "execution_count": null,
   "metadata": {},
   "outputs": [],
   "source": []
  },
  {
   "cell_type": "code",
   "execution_count": null,
   "metadata": {},
   "outputs": [],
   "source": []
  }
 ],
 "metadata": {
  "kernelspec": {
   "display_name": "my_py11",
   "language": "python",
   "name": "python3"
  },
  "language_info": {
   "codemirror_mode": {
    "name": "ipython",
    "version": 3
   },
   "file_extension": ".py",
   "mimetype": "text/x-python",
   "name": "python",
   "nbconvert_exporter": "python",
   "pygments_lexer": "ipython3",
   "version": "3.11.3"
  },
  "orig_nbformat": 4
 },
 "nbformat": 4,
 "nbformat_minor": 2
}
